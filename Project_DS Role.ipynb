{
 "cells": [
  {
   "cell_type": "code",
   "execution_count": 1,
   "metadata": {},
   "outputs": [],
   "source": [
    "import pandas as pd\n",
    "import copy\n",
    "import numpy as np\n",
    "import matplotlib.pyplot as plt\n",
    "import seaborn as sn\n",
    "import scipy.stats as stats\n",
    "import xlsxwriter\n",
    "from sklearn.impute import SimpleImputer\n",
    "import time\n",
    "import datetime\n",
    "%matplotlib inline\n",
    "import warnings\n",
    "warnings.filterwarnings('ignore')"
   ]
  },
  {
   "cell_type": "code",
   "execution_count": 2,
   "metadata": {},
   "outputs": [],
   "source": [
    "data_df = pd.read_csv(\"Data.csv\")"
   ]
  },
  {
   "cell_type": "markdown",
   "metadata": {},
   "source": [
    "### Let's see the 1st 5 row"
   ]
  },
  {
   "cell_type": "code",
   "execution_count": 3,
   "metadata": {},
   "outputs": [
    {
     "data": {
      "text/html": [
       "<div>\n",
       "<style scoped>\n",
       "    .dataframe tbody tr th:only-of-type {\n",
       "        vertical-align: middle;\n",
       "    }\n",
       "\n",
       "    .dataframe tbody tr th {\n",
       "        vertical-align: top;\n",
       "    }\n",
       "\n",
       "    .dataframe thead th {\n",
       "        text-align: right;\n",
       "    }\n",
       "</style>\n",
       "<table border=\"1\" class=\"dataframe\">\n",
       "  <thead>\n",
       "    <tr style=\"text-align: right;\">\n",
       "      <th></th>\n",
       "      <th>CUST_ID</th>\n",
       "      <th>BALANCE</th>\n",
       "      <th>BALANCE_FREQUENCY</th>\n",
       "      <th>PURCHASES</th>\n",
       "      <th>ONEOFF_PURCHASES</th>\n",
       "      <th>INSTALLMENTS_PURCHASES</th>\n",
       "      <th>CASH_ADVANCE</th>\n",
       "      <th>PURCHASES_FREQUENCY</th>\n",
       "      <th>ONEOFF_PURCHASES_FREQUENCY</th>\n",
       "      <th>PURCHASES_INSTALLMENTS_FREQUENCY</th>\n",
       "      <th>CASH_ADVANCE_FREQUENCY</th>\n",
       "      <th>CASH_ADVANCE_TRX</th>\n",
       "      <th>PURCHASES_TRX</th>\n",
       "      <th>CREDIT_LIMIT</th>\n",
       "      <th>PAYMENTS</th>\n",
       "      <th>MINIMUM_PAYMENTS</th>\n",
       "      <th>PRC_FULL_PAYMENT</th>\n",
       "      <th>TENURE</th>\n",
       "    </tr>\n",
       "  </thead>\n",
       "  <tbody>\n",
       "    <tr>\n",
       "      <th>0</th>\n",
       "      <td>C10001</td>\n",
       "      <td>40.900749</td>\n",
       "      <td>0.818182</td>\n",
       "      <td>95.40</td>\n",
       "      <td>0.00</td>\n",
       "      <td>95.4</td>\n",
       "      <td>0.000000</td>\n",
       "      <td>0.166667</td>\n",
       "      <td>0.000000</td>\n",
       "      <td>0.083333</td>\n",
       "      <td>0.000000</td>\n",
       "      <td>0</td>\n",
       "      <td>2</td>\n",
       "      <td>1000.0</td>\n",
       "      <td>201.802084</td>\n",
       "      <td>139.509787</td>\n",
       "      <td>0.000000</td>\n",
       "      <td>12</td>\n",
       "    </tr>\n",
       "    <tr>\n",
       "      <th>1</th>\n",
       "      <td>C10002</td>\n",
       "      <td>3202.467416</td>\n",
       "      <td>0.909091</td>\n",
       "      <td>0.00</td>\n",
       "      <td>0.00</td>\n",
       "      <td>0.0</td>\n",
       "      <td>6442.945483</td>\n",
       "      <td>0.000000</td>\n",
       "      <td>0.000000</td>\n",
       "      <td>0.000000</td>\n",
       "      <td>0.250000</td>\n",
       "      <td>4</td>\n",
       "      <td>0</td>\n",
       "      <td>7000.0</td>\n",
       "      <td>4103.032597</td>\n",
       "      <td>1072.340217</td>\n",
       "      <td>0.222222</td>\n",
       "      <td>12</td>\n",
       "    </tr>\n",
       "    <tr>\n",
       "      <th>2</th>\n",
       "      <td>C10003</td>\n",
       "      <td>2495.148862</td>\n",
       "      <td>1.000000</td>\n",
       "      <td>773.17</td>\n",
       "      <td>773.17</td>\n",
       "      <td>0.0</td>\n",
       "      <td>0.000000</td>\n",
       "      <td>1.000000</td>\n",
       "      <td>1.000000</td>\n",
       "      <td>0.000000</td>\n",
       "      <td>0.000000</td>\n",
       "      <td>0</td>\n",
       "      <td>12</td>\n",
       "      <td>7500.0</td>\n",
       "      <td>622.066742</td>\n",
       "      <td>627.284787</td>\n",
       "      <td>0.000000</td>\n",
       "      <td>12</td>\n",
       "    </tr>\n",
       "    <tr>\n",
       "      <th>3</th>\n",
       "      <td>C10004</td>\n",
       "      <td>1666.670542</td>\n",
       "      <td>0.636364</td>\n",
       "      <td>1499.00</td>\n",
       "      <td>1499.00</td>\n",
       "      <td>0.0</td>\n",
       "      <td>205.788017</td>\n",
       "      <td>0.083333</td>\n",
       "      <td>0.083333</td>\n",
       "      <td>0.000000</td>\n",
       "      <td>0.083333</td>\n",
       "      <td>1</td>\n",
       "      <td>1</td>\n",
       "      <td>7500.0</td>\n",
       "      <td>0.000000</td>\n",
       "      <td>NaN</td>\n",
       "      <td>0.000000</td>\n",
       "      <td>12</td>\n",
       "    </tr>\n",
       "    <tr>\n",
       "      <th>4</th>\n",
       "      <td>C10005</td>\n",
       "      <td>817.714335</td>\n",
       "      <td>1.000000</td>\n",
       "      <td>16.00</td>\n",
       "      <td>16.00</td>\n",
       "      <td>0.0</td>\n",
       "      <td>0.000000</td>\n",
       "      <td>0.083333</td>\n",
       "      <td>0.083333</td>\n",
       "      <td>0.000000</td>\n",
       "      <td>0.000000</td>\n",
       "      <td>0</td>\n",
       "      <td>1</td>\n",
       "      <td>1200.0</td>\n",
       "      <td>678.334763</td>\n",
       "      <td>244.791237</td>\n",
       "      <td>0.000000</td>\n",
       "      <td>12</td>\n",
       "    </tr>\n",
       "  </tbody>\n",
       "</table>\n",
       "</div>"
      ],
      "text/plain": [
       "  CUST_ID      BALANCE  BALANCE_FREQUENCY  PURCHASES  ONEOFF_PURCHASES  \\\n",
       "0  C10001    40.900749           0.818182      95.40              0.00   \n",
       "1  C10002  3202.467416           0.909091       0.00              0.00   \n",
       "2  C10003  2495.148862           1.000000     773.17            773.17   \n",
       "3  C10004  1666.670542           0.636364    1499.00           1499.00   \n",
       "4  C10005   817.714335           1.000000      16.00             16.00   \n",
       "\n",
       "   INSTALLMENTS_PURCHASES  CASH_ADVANCE  PURCHASES_FREQUENCY  \\\n",
       "0                    95.4      0.000000             0.166667   \n",
       "1                     0.0   6442.945483             0.000000   \n",
       "2                     0.0      0.000000             1.000000   \n",
       "3                     0.0    205.788017             0.083333   \n",
       "4                     0.0      0.000000             0.083333   \n",
       "\n",
       "   ONEOFF_PURCHASES_FREQUENCY  PURCHASES_INSTALLMENTS_FREQUENCY  \\\n",
       "0                    0.000000                          0.083333   \n",
       "1                    0.000000                          0.000000   \n",
       "2                    1.000000                          0.000000   \n",
       "3                    0.083333                          0.000000   \n",
       "4                    0.083333                          0.000000   \n",
       "\n",
       "   CASH_ADVANCE_FREQUENCY  CASH_ADVANCE_TRX  PURCHASES_TRX  CREDIT_LIMIT  \\\n",
       "0                0.000000                 0              2        1000.0   \n",
       "1                0.250000                 4              0        7000.0   \n",
       "2                0.000000                 0             12        7500.0   \n",
       "3                0.083333                 1              1        7500.0   \n",
       "4                0.000000                 0              1        1200.0   \n",
       "\n",
       "      PAYMENTS  MINIMUM_PAYMENTS  PRC_FULL_PAYMENT  TENURE  \n",
       "0   201.802084        139.509787          0.000000      12  \n",
       "1  4103.032597       1072.340217          0.222222      12  \n",
       "2   622.066742        627.284787          0.000000      12  \n",
       "3     0.000000               NaN          0.000000      12  \n",
       "4   678.334763        244.791237          0.000000      12  "
      ]
     },
     "execution_count": 3,
     "metadata": {},
     "output_type": "execute_result"
    }
   ],
   "source": [
    "data_df.head()"
   ]
  },
  {
   "cell_type": "markdown",
   "metadata": {},
   "source": [
    "### Let's see the last 5 row"
   ]
  },
  {
   "cell_type": "code",
   "execution_count": 4,
   "metadata": {},
   "outputs": [
    {
     "data": {
      "text/html": [
       "<div>\n",
       "<style scoped>\n",
       "    .dataframe tbody tr th:only-of-type {\n",
       "        vertical-align: middle;\n",
       "    }\n",
       "\n",
       "    .dataframe tbody tr th {\n",
       "        vertical-align: top;\n",
       "    }\n",
       "\n",
       "    .dataframe thead th {\n",
       "        text-align: right;\n",
       "    }\n",
       "</style>\n",
       "<table border=\"1\" class=\"dataframe\">\n",
       "  <thead>\n",
       "    <tr style=\"text-align: right;\">\n",
       "      <th></th>\n",
       "      <th>CUST_ID</th>\n",
       "      <th>BALANCE</th>\n",
       "      <th>BALANCE_FREQUENCY</th>\n",
       "      <th>PURCHASES</th>\n",
       "      <th>ONEOFF_PURCHASES</th>\n",
       "      <th>INSTALLMENTS_PURCHASES</th>\n",
       "      <th>CASH_ADVANCE</th>\n",
       "      <th>PURCHASES_FREQUENCY</th>\n",
       "      <th>ONEOFF_PURCHASES_FREQUENCY</th>\n",
       "      <th>PURCHASES_INSTALLMENTS_FREQUENCY</th>\n",
       "      <th>CASH_ADVANCE_FREQUENCY</th>\n",
       "      <th>CASH_ADVANCE_TRX</th>\n",
       "      <th>PURCHASES_TRX</th>\n",
       "      <th>CREDIT_LIMIT</th>\n",
       "      <th>PAYMENTS</th>\n",
       "      <th>MINIMUM_PAYMENTS</th>\n",
       "      <th>PRC_FULL_PAYMENT</th>\n",
       "      <th>TENURE</th>\n",
       "    </tr>\n",
       "  </thead>\n",
       "  <tbody>\n",
       "    <tr>\n",
       "      <th>8945</th>\n",
       "      <td>C19186</td>\n",
       "      <td>28.493517</td>\n",
       "      <td>1.000000</td>\n",
       "      <td>291.12</td>\n",
       "      <td>0.00</td>\n",
       "      <td>291.12</td>\n",
       "      <td>0.000000</td>\n",
       "      <td>1.000000</td>\n",
       "      <td>0.000000</td>\n",
       "      <td>0.833333</td>\n",
       "      <td>0.000000</td>\n",
       "      <td>0</td>\n",
       "      <td>6</td>\n",
       "      <td>1000.0</td>\n",
       "      <td>325.594462</td>\n",
       "      <td>48.886365</td>\n",
       "      <td>0.50</td>\n",
       "      <td>6</td>\n",
       "    </tr>\n",
       "    <tr>\n",
       "      <th>8946</th>\n",
       "      <td>C19187</td>\n",
       "      <td>19.183215</td>\n",
       "      <td>1.000000</td>\n",
       "      <td>300.00</td>\n",
       "      <td>0.00</td>\n",
       "      <td>300.00</td>\n",
       "      <td>0.000000</td>\n",
       "      <td>1.000000</td>\n",
       "      <td>0.000000</td>\n",
       "      <td>0.833333</td>\n",
       "      <td>0.000000</td>\n",
       "      <td>0</td>\n",
       "      <td>6</td>\n",
       "      <td>1000.0</td>\n",
       "      <td>275.861322</td>\n",
       "      <td>NaN</td>\n",
       "      <td>0.00</td>\n",
       "      <td>6</td>\n",
       "    </tr>\n",
       "    <tr>\n",
       "      <th>8947</th>\n",
       "      <td>C19188</td>\n",
       "      <td>23.398673</td>\n",
       "      <td>0.833333</td>\n",
       "      <td>144.40</td>\n",
       "      <td>0.00</td>\n",
       "      <td>144.40</td>\n",
       "      <td>0.000000</td>\n",
       "      <td>0.833333</td>\n",
       "      <td>0.000000</td>\n",
       "      <td>0.666667</td>\n",
       "      <td>0.000000</td>\n",
       "      <td>0</td>\n",
       "      <td>5</td>\n",
       "      <td>1000.0</td>\n",
       "      <td>81.270775</td>\n",
       "      <td>82.418369</td>\n",
       "      <td>0.25</td>\n",
       "      <td>6</td>\n",
       "    </tr>\n",
       "    <tr>\n",
       "      <th>8948</th>\n",
       "      <td>C19189</td>\n",
       "      <td>13.457564</td>\n",
       "      <td>0.833333</td>\n",
       "      <td>0.00</td>\n",
       "      <td>0.00</td>\n",
       "      <td>0.00</td>\n",
       "      <td>36.558778</td>\n",
       "      <td>0.000000</td>\n",
       "      <td>0.000000</td>\n",
       "      <td>0.000000</td>\n",
       "      <td>0.166667</td>\n",
       "      <td>2</td>\n",
       "      <td>0</td>\n",
       "      <td>500.0</td>\n",
       "      <td>52.549959</td>\n",
       "      <td>55.755628</td>\n",
       "      <td>0.25</td>\n",
       "      <td>6</td>\n",
       "    </tr>\n",
       "    <tr>\n",
       "      <th>8949</th>\n",
       "      <td>C19190</td>\n",
       "      <td>372.708075</td>\n",
       "      <td>0.666667</td>\n",
       "      <td>1093.25</td>\n",
       "      <td>1093.25</td>\n",
       "      <td>0.00</td>\n",
       "      <td>127.040008</td>\n",
       "      <td>0.666667</td>\n",
       "      <td>0.666667</td>\n",
       "      <td>0.000000</td>\n",
       "      <td>0.333333</td>\n",
       "      <td>2</td>\n",
       "      <td>23</td>\n",
       "      <td>1200.0</td>\n",
       "      <td>63.165404</td>\n",
       "      <td>88.288956</td>\n",
       "      <td>0.00</td>\n",
       "      <td>6</td>\n",
       "    </tr>\n",
       "  </tbody>\n",
       "</table>\n",
       "</div>"
      ],
      "text/plain": [
       "     CUST_ID     BALANCE  BALANCE_FREQUENCY  PURCHASES  ONEOFF_PURCHASES  \\\n",
       "8945  C19186   28.493517           1.000000     291.12              0.00   \n",
       "8946  C19187   19.183215           1.000000     300.00              0.00   \n",
       "8947  C19188   23.398673           0.833333     144.40              0.00   \n",
       "8948  C19189   13.457564           0.833333       0.00              0.00   \n",
       "8949  C19190  372.708075           0.666667    1093.25           1093.25   \n",
       "\n",
       "      INSTALLMENTS_PURCHASES  CASH_ADVANCE  PURCHASES_FREQUENCY  \\\n",
       "8945                  291.12      0.000000             1.000000   \n",
       "8946                  300.00      0.000000             1.000000   \n",
       "8947                  144.40      0.000000             0.833333   \n",
       "8948                    0.00     36.558778             0.000000   \n",
       "8949                    0.00    127.040008             0.666667   \n",
       "\n",
       "      ONEOFF_PURCHASES_FREQUENCY  PURCHASES_INSTALLMENTS_FREQUENCY  \\\n",
       "8945                    0.000000                          0.833333   \n",
       "8946                    0.000000                          0.833333   \n",
       "8947                    0.000000                          0.666667   \n",
       "8948                    0.000000                          0.000000   \n",
       "8949                    0.666667                          0.000000   \n",
       "\n",
       "      CASH_ADVANCE_FREQUENCY  CASH_ADVANCE_TRX  PURCHASES_TRX  CREDIT_LIMIT  \\\n",
       "8945                0.000000                 0              6        1000.0   \n",
       "8946                0.000000                 0              6        1000.0   \n",
       "8947                0.000000                 0              5        1000.0   \n",
       "8948                0.166667                 2              0         500.0   \n",
       "8949                0.333333                 2             23        1200.0   \n",
       "\n",
       "        PAYMENTS  MINIMUM_PAYMENTS  PRC_FULL_PAYMENT  TENURE  \n",
       "8945  325.594462         48.886365              0.50       6  \n",
       "8946  275.861322               NaN              0.00       6  \n",
       "8947   81.270775         82.418369              0.25       6  \n",
       "8948   52.549959         55.755628              0.25       6  \n",
       "8949   63.165404         88.288956              0.00       6  "
      ]
     },
     "execution_count": 4,
     "metadata": {},
     "output_type": "execute_result"
    }
   ],
   "source": [
    "data_df.tail()"
   ]
  },
  {
   "cell_type": "markdown",
   "metadata": {},
   "source": [
    "### Check the missing values "
   ]
  },
  {
   "cell_type": "code",
   "execution_count": 5,
   "metadata": {},
   "outputs": [],
   "source": [
    "def check_NaN(data_df):\n",
    "    \"\"\"\n",
    "    input: pandas data frame\n",
    "    output :print number of missing values with percentage\n",
    "    \"\"\"\n",
    "    total_na = data_df.isnull().sum(axis=0).sort_values(ascending=False)\n",
    "    # calculate percentage\n",
    "    percent = ((data_df.isnull().sum(axis=0)/data_df.isnull().count(axis=0))*100).sort_values(ascending=False)\n",
    "    na_percent = pd.concat([total_na,percent],axis=1,keys=['Total','Percentage'])\n",
    "    print(\"=\"*20 +\" Misssing Values are \"+ \"=\"*20,\"\\n\" ,na_percent)"
   ]
  },
  {
   "cell_type": "code",
   "execution_count": 6,
   "metadata": {},
   "outputs": [
    {
     "name": "stdout",
     "output_type": "stream",
     "text": [
      "==================== Misssing Values are ==================== \n",
      "                                   Total  Percentage\n",
      "MINIMUM_PAYMENTS                    313    3.497207\n",
      "CREDIT_LIMIT                          1    0.011173\n",
      "TENURE                                0    0.000000\n",
      "PURCHASES_FREQUENCY                   0    0.000000\n",
      "BALANCE                               0    0.000000\n",
      "BALANCE_FREQUENCY                     0    0.000000\n",
      "PURCHASES                             0    0.000000\n",
      "ONEOFF_PURCHASES                      0    0.000000\n",
      "INSTALLMENTS_PURCHASES                0    0.000000\n",
      "CASH_ADVANCE                          0    0.000000\n",
      "ONEOFF_PURCHASES_FREQUENCY            0    0.000000\n",
      "PRC_FULL_PAYMENT                      0    0.000000\n",
      "PURCHASES_INSTALLMENTS_FREQUENCY      0    0.000000\n",
      "CASH_ADVANCE_FREQUENCY                0    0.000000\n",
      "CASH_ADVANCE_TRX                      0    0.000000\n",
      "PURCHASES_TRX                         0    0.000000\n",
      "PAYMENTS                              0    0.000000\n",
      "CUST_ID                               0    0.000000\n"
     ]
    }
   ],
   "source": [
    "check_NaN(data_df)"
   ]
  },
  {
   "cell_type": "markdown",
   "metadata": {},
   "source": [
    "### Fill the NaN Values using imputer\n"
   ]
  },
  {
   "cell_type": "code",
   "execution_count": 7,
   "metadata": {},
   "outputs": [],
   "source": [
    "imp_median = SimpleImputer(missing_values=np.nan, strategy='median')\n",
    "imp_median.fit(data_df[['MINIMUM_PAYMENTS']])\n",
    "data_df['MINIMUM_PAYMENTS'] = imp_median.transform(data_df[['MINIMUM_PAYMENTS']])"
   ]
  },
  {
   "cell_type": "code",
   "execution_count": 8,
   "metadata": {},
   "outputs": [
    {
     "data": {
      "text/plain": [
       "(30000.0, 50.0)"
      ]
     },
     "execution_count": 8,
     "metadata": {},
     "output_type": "execute_result"
    }
   ],
   "source": [
    "data_df.CREDIT_LIMIT.max(), data_df.CREDIT_LIMIT.min()"
   ]
  },
  {
   "cell_type": "code",
   "execution_count": 9,
   "metadata": {},
   "outputs": [],
   "source": [
    "data_df=data_df[data_df.CREDIT_LIMIT.isin([np.nan])==False]"
   ]
  },
  {
   "cell_type": "markdown",
   "metadata": {},
   "source": [
    "### Make the deepcopy of the dataframe"
   ]
  },
  {
   "cell_type": "code",
   "execution_count": 10,
   "metadata": {},
   "outputs": [],
   "source": [
    "df = copy.deepcopy(data_df)"
   ]
  },
  {
   "cell_type": "code",
   "execution_count": 11,
   "metadata": {},
   "outputs": [
    {
     "data": {
      "text/plain": [
       "(8949, 18)"
      ]
     },
     "execution_count": 11,
     "metadata": {},
     "output_type": "execute_result"
    }
   ],
   "source": [
    "df.shape"
   ]
  },
  {
   "cell_type": "code",
   "execution_count": 12,
   "metadata": {},
   "outputs": [
    {
     "name": "stdout",
     "output_type": "stream",
     "text": [
      "\n",
      " Data Types of feature :  \n",
      " CUST_ID                              object\n",
      "BALANCE                             float64\n",
      "BALANCE_FREQUENCY                   float64\n",
      "PURCHASES                           float64\n",
      "ONEOFF_PURCHASES                    float64\n",
      "INSTALLMENTS_PURCHASES              float64\n",
      "CASH_ADVANCE                        float64\n",
      "PURCHASES_FREQUENCY                 float64\n",
      "ONEOFF_PURCHASES_FREQUENCY          float64\n",
      "PURCHASES_INSTALLMENTS_FREQUENCY    float64\n",
      "CASH_ADVANCE_FREQUENCY              float64\n",
      "CASH_ADVANCE_TRX                      int64\n",
      "PURCHASES_TRX                         int64\n",
      "CREDIT_LIMIT                        float64\n",
      "PAYMENTS                            float64\n",
      "MINIMUM_PAYMENTS                    float64\n",
      "PRC_FULL_PAYMENT                    float64\n",
      "TENURE                                int64\n",
      "dtype: object\n"
     ]
    }
   ],
   "source": [
    "print (\"\\n Data Types of feature :  \\n\",df.dtypes)"
   ]
  },
  {
   "cell_type": "code",
   "execution_count": 13,
   "metadata": {},
   "outputs": [],
   "source": [
    "df['CASH_ADVANCE_TRX']=df.CASH_ADVANCE_TRX.astype('float')\n",
    "df['PURCHASES_TRX']=df.PURCHASES_TRX.astype('float')\n",
    "df['TENURE']=df.TENURE.astype('float')"
   ]
  },
  {
   "cell_type": "markdown",
   "metadata": {},
   "source": [
    "### Intital Descriptive Analysis "
   ]
  },
  {
   "cell_type": "code",
   "execution_count": 14,
   "metadata": {},
   "outputs": [
    {
     "data": {
      "text/html": [
       "<div>\n",
       "<style scoped>\n",
       "    .dataframe tbody tr th:only-of-type {\n",
       "        vertical-align: middle;\n",
       "    }\n",
       "\n",
       "    .dataframe tbody tr th {\n",
       "        vertical-align: top;\n",
       "    }\n",
       "\n",
       "    .dataframe thead th {\n",
       "        text-align: right;\n",
       "    }\n",
       "</style>\n",
       "<table border=\"1\" class=\"dataframe\">\n",
       "  <thead>\n",
       "    <tr style=\"text-align: right;\">\n",
       "      <th></th>\n",
       "      <th>BALANCE</th>\n",
       "      <th>BALANCE_FREQUENCY</th>\n",
       "      <th>PURCHASES</th>\n",
       "      <th>ONEOFF_PURCHASES</th>\n",
       "      <th>INSTALLMENTS_PURCHASES</th>\n",
       "      <th>CASH_ADVANCE</th>\n",
       "      <th>PURCHASES_FREQUENCY</th>\n",
       "      <th>ONEOFF_PURCHASES_FREQUENCY</th>\n",
       "      <th>PURCHASES_INSTALLMENTS_FREQUENCY</th>\n",
       "      <th>CASH_ADVANCE_FREQUENCY</th>\n",
       "      <th>CASH_ADVANCE_TRX</th>\n",
       "      <th>PURCHASES_TRX</th>\n",
       "      <th>CREDIT_LIMIT</th>\n",
       "      <th>PAYMENTS</th>\n",
       "      <th>MINIMUM_PAYMENTS</th>\n",
       "      <th>PRC_FULL_PAYMENT</th>\n",
       "      <th>TENURE</th>\n",
       "    </tr>\n",
       "  </thead>\n",
       "  <tbody>\n",
       "    <tr>\n",
       "      <th>count</th>\n",
       "      <td>8949.000000</td>\n",
       "      <td>8949.000000</td>\n",
       "      <td>8949.000000</td>\n",
       "      <td>8949.000000</td>\n",
       "      <td>8949.000000</td>\n",
       "      <td>8949.000000</td>\n",
       "      <td>8949.000000</td>\n",
       "      <td>8949.000000</td>\n",
       "      <td>8949.000000</td>\n",
       "      <td>8949.000000</td>\n",
       "      <td>8949.000000</td>\n",
       "      <td>8949.000000</td>\n",
       "      <td>8949.000000</td>\n",
       "      <td>8949.000000</td>\n",
       "      <td>8949.000000</td>\n",
       "      <td>8949.000000</td>\n",
       "      <td>8949.000000</td>\n",
       "    </tr>\n",
       "    <tr>\n",
       "      <th>mean</th>\n",
       "      <td>1564.647593</td>\n",
       "      <td>0.877350</td>\n",
       "      <td>1003.316936</td>\n",
       "      <td>592.503572</td>\n",
       "      <td>411.113579</td>\n",
       "      <td>978.959616</td>\n",
       "      <td>0.490405</td>\n",
       "      <td>0.202480</td>\n",
       "      <td>0.364478</td>\n",
       "      <td>0.135141</td>\n",
       "      <td>3.249078</td>\n",
       "      <td>14.711476</td>\n",
       "      <td>4494.449450</td>\n",
       "      <td>1733.336511</td>\n",
       "      <td>844.999569</td>\n",
       "      <td>0.153732</td>\n",
       "      <td>11.517935</td>\n",
       "    </tr>\n",
       "    <tr>\n",
       "      <th>std</th>\n",
       "      <td>2081.584016</td>\n",
       "      <td>0.236798</td>\n",
       "      <td>2136.727848</td>\n",
       "      <td>1659.968851</td>\n",
       "      <td>904.378205</td>\n",
       "      <td>2097.264344</td>\n",
       "      <td>0.401360</td>\n",
       "      <td>0.298345</td>\n",
       "      <td>0.397451</td>\n",
       "      <td>0.200132</td>\n",
       "      <td>6.824987</td>\n",
       "      <td>24.858552</td>\n",
       "      <td>3638.815725</td>\n",
       "      <td>2895.168146</td>\n",
       "      <td>2332.906149</td>\n",
       "      <td>0.292511</td>\n",
       "      <td>1.337134</td>\n",
       "    </tr>\n",
       "    <tr>\n",
       "      <th>min</th>\n",
       "      <td>0.000000</td>\n",
       "      <td>0.000000</td>\n",
       "      <td>0.000000</td>\n",
       "      <td>0.000000</td>\n",
       "      <td>0.000000</td>\n",
       "      <td>0.000000</td>\n",
       "      <td>0.000000</td>\n",
       "      <td>0.000000</td>\n",
       "      <td>0.000000</td>\n",
       "      <td>0.000000</td>\n",
       "      <td>0.000000</td>\n",
       "      <td>0.000000</td>\n",
       "      <td>50.000000</td>\n",
       "      <td>0.000000</td>\n",
       "      <td>0.019163</td>\n",
       "      <td>0.000000</td>\n",
       "      <td>6.000000</td>\n",
       "    </tr>\n",
       "    <tr>\n",
       "      <th>25%</th>\n",
       "      <td>128.365782</td>\n",
       "      <td>0.888889</td>\n",
       "      <td>39.800000</td>\n",
       "      <td>0.000000</td>\n",
       "      <td>0.000000</td>\n",
       "      <td>0.000000</td>\n",
       "      <td>0.083333</td>\n",
       "      <td>0.000000</td>\n",
       "      <td>0.000000</td>\n",
       "      <td>0.000000</td>\n",
       "      <td>0.000000</td>\n",
       "      <td>1.000000</td>\n",
       "      <td>1600.000000</td>\n",
       "      <td>383.282850</td>\n",
       "      <td>170.875613</td>\n",
       "      <td>0.000000</td>\n",
       "      <td>12.000000</td>\n",
       "    </tr>\n",
       "    <tr>\n",
       "      <th>50%</th>\n",
       "      <td>873.680279</td>\n",
       "      <td>1.000000</td>\n",
       "      <td>361.490000</td>\n",
       "      <td>38.000000</td>\n",
       "      <td>89.000000</td>\n",
       "      <td>0.000000</td>\n",
       "      <td>0.500000</td>\n",
       "      <td>0.083333</td>\n",
       "      <td>0.166667</td>\n",
       "      <td>0.000000</td>\n",
       "      <td>0.000000</td>\n",
       "      <td>7.000000</td>\n",
       "      <td>3000.000000</td>\n",
       "      <td>857.062706</td>\n",
       "      <td>312.343947</td>\n",
       "      <td>0.000000</td>\n",
       "      <td>12.000000</td>\n",
       "    </tr>\n",
       "    <tr>\n",
       "      <th>75%</th>\n",
       "      <td>2054.372848</td>\n",
       "      <td>1.000000</td>\n",
       "      <td>1110.170000</td>\n",
       "      <td>577.830000</td>\n",
       "      <td>468.650000</td>\n",
       "      <td>1113.868654</td>\n",
       "      <td>0.916667</td>\n",
       "      <td>0.300000</td>\n",
       "      <td>0.750000</td>\n",
       "      <td>0.222222</td>\n",
       "      <td>4.000000</td>\n",
       "      <td>17.000000</td>\n",
       "      <td>6500.000000</td>\n",
       "      <td>1901.279320</td>\n",
       "      <td>788.721609</td>\n",
       "      <td>0.142857</td>\n",
       "      <td>12.000000</td>\n",
       "    </tr>\n",
       "    <tr>\n",
       "      <th>max</th>\n",
       "      <td>19043.138560</td>\n",
       "      <td>1.000000</td>\n",
       "      <td>49039.570000</td>\n",
       "      <td>40761.250000</td>\n",
       "      <td>22500.000000</td>\n",
       "      <td>47137.211760</td>\n",
       "      <td>1.000000</td>\n",
       "      <td>1.000000</td>\n",
       "      <td>1.000000</td>\n",
       "      <td>1.500000</td>\n",
       "      <td>123.000000</td>\n",
       "      <td>358.000000</td>\n",
       "      <td>30000.000000</td>\n",
       "      <td>50721.483360</td>\n",
       "      <td>76406.207520</td>\n",
       "      <td>1.000000</td>\n",
       "      <td>12.000000</td>\n",
       "    </tr>\n",
       "  </tbody>\n",
       "</table>\n",
       "</div>"
      ],
      "text/plain": [
       "            BALANCE  BALANCE_FREQUENCY     PURCHASES  ONEOFF_PURCHASES  \\\n",
       "count   8949.000000        8949.000000   8949.000000       8949.000000   \n",
       "mean    1564.647593           0.877350   1003.316936        592.503572   \n",
       "std     2081.584016           0.236798   2136.727848       1659.968851   \n",
       "min        0.000000           0.000000      0.000000          0.000000   \n",
       "25%      128.365782           0.888889     39.800000          0.000000   \n",
       "50%      873.680279           1.000000    361.490000         38.000000   \n",
       "75%     2054.372848           1.000000   1110.170000        577.830000   \n",
       "max    19043.138560           1.000000  49039.570000      40761.250000   \n",
       "\n",
       "       INSTALLMENTS_PURCHASES  CASH_ADVANCE  PURCHASES_FREQUENCY  \\\n",
       "count             8949.000000   8949.000000          8949.000000   \n",
       "mean               411.113579    978.959616             0.490405   \n",
       "std                904.378205   2097.264344             0.401360   \n",
       "min                  0.000000      0.000000             0.000000   \n",
       "25%                  0.000000      0.000000             0.083333   \n",
       "50%                 89.000000      0.000000             0.500000   \n",
       "75%                468.650000   1113.868654             0.916667   \n",
       "max              22500.000000  47137.211760             1.000000   \n",
       "\n",
       "       ONEOFF_PURCHASES_FREQUENCY  PURCHASES_INSTALLMENTS_FREQUENCY  \\\n",
       "count                 8949.000000                       8949.000000   \n",
       "mean                     0.202480                          0.364478   \n",
       "std                      0.298345                          0.397451   \n",
       "min                      0.000000                          0.000000   \n",
       "25%                      0.000000                          0.000000   \n",
       "50%                      0.083333                          0.166667   \n",
       "75%                      0.300000                          0.750000   \n",
       "max                      1.000000                          1.000000   \n",
       "\n",
       "       CASH_ADVANCE_FREQUENCY  CASH_ADVANCE_TRX  PURCHASES_TRX  CREDIT_LIMIT  \\\n",
       "count             8949.000000       8949.000000    8949.000000   8949.000000   \n",
       "mean                 0.135141          3.249078      14.711476   4494.449450   \n",
       "std                  0.200132          6.824987      24.858552   3638.815725   \n",
       "min                  0.000000          0.000000       0.000000     50.000000   \n",
       "25%                  0.000000          0.000000       1.000000   1600.000000   \n",
       "50%                  0.000000          0.000000       7.000000   3000.000000   \n",
       "75%                  0.222222          4.000000      17.000000   6500.000000   \n",
       "max                  1.500000        123.000000     358.000000  30000.000000   \n",
       "\n",
       "           PAYMENTS  MINIMUM_PAYMENTS  PRC_FULL_PAYMENT       TENURE  \n",
       "count   8949.000000       8949.000000       8949.000000  8949.000000  \n",
       "mean    1733.336511        844.999569          0.153732    11.517935  \n",
       "std     2895.168146       2332.906149          0.292511     1.337134  \n",
       "min        0.000000          0.019163          0.000000     6.000000  \n",
       "25%      383.282850        170.875613          0.000000    12.000000  \n",
       "50%      857.062706        312.343947          0.000000    12.000000  \n",
       "75%     1901.279320        788.721609          0.142857    12.000000  \n",
       "max    50721.483360      76406.207520          1.000000    12.000000  "
      ]
     },
     "execution_count": 14,
     "metadata": {},
     "output_type": "execute_result"
    }
   ],
   "source": [
    "df.describe()"
   ]
  },
  {
   "cell_type": "code",
   "execution_count": null,
   "metadata": {},
   "outputs": [],
   "source": []
  },
  {
   "cell_type": "markdown",
   "metadata": {},
   "source": [
    "# Advanced data preparation\n"
   ]
  },
  {
   "cell_type": "markdown",
   "metadata": {},
   "source": [
    "### Setp 1. Monthly average purchase and cash advance amount"
   ]
  },
  {
   "cell_type": "code",
   "execution_count": 15,
   "metadata": {},
   "outputs": [],
   "source": [
    "df['Monthly_Avg_Purchase']=df['PURCHASES']/df['TENURE']"
   ]
  },
  {
   "cell_type": "code",
   "execution_count": 16,
   "metadata": {},
   "outputs": [],
   "source": [
    "df['Monthly_Cash_Advance']=df['CASH_ADVANCE']/df['TENURE']"
   ]
  },
  {
   "cell_type": "code",
   "execution_count": 17,
   "metadata": {},
   "outputs": [],
   "source": [
    "my_df=pd.concat([df.Monthly_Avg_Purchase,df.TENURE,df.PURCHASES],axis=1,keys=['Monthly_Avg_Purchase','TENURE','PURCHASES'])"
   ]
  },
  {
   "cell_type": "code",
   "execution_count": 18,
   "metadata": {},
   "outputs": [
    {
     "data": {
      "text/html": [
       "<div>\n",
       "<style scoped>\n",
       "    .dataframe tbody tr th:only-of-type {\n",
       "        vertical-align: middle;\n",
       "    }\n",
       "\n",
       "    .dataframe tbody tr th {\n",
       "        vertical-align: top;\n",
       "    }\n",
       "\n",
       "    .dataframe thead th {\n",
       "        text-align: right;\n",
       "    }\n",
       "</style>\n",
       "<table border=\"1\" class=\"dataframe\">\n",
       "  <thead>\n",
       "    <tr style=\"text-align: right;\">\n",
       "      <th></th>\n",
       "      <th>Monthly_Avg_Purchase</th>\n",
       "      <th>TENURE</th>\n",
       "      <th>PURCHASES</th>\n",
       "    </tr>\n",
       "  </thead>\n",
       "  <tbody>\n",
       "    <tr>\n",
       "      <th>0</th>\n",
       "      <td>7.950000</td>\n",
       "      <td>12.0</td>\n",
       "      <td>95.40</td>\n",
       "    </tr>\n",
       "    <tr>\n",
       "      <th>1</th>\n",
       "      <td>0.000000</td>\n",
       "      <td>12.0</td>\n",
       "      <td>0.00</td>\n",
       "    </tr>\n",
       "    <tr>\n",
       "      <th>2</th>\n",
       "      <td>64.430833</td>\n",
       "      <td>12.0</td>\n",
       "      <td>773.17</td>\n",
       "    </tr>\n",
       "    <tr>\n",
       "      <th>3</th>\n",
       "      <td>124.916667</td>\n",
       "      <td>12.0</td>\n",
       "      <td>1499.00</td>\n",
       "    </tr>\n",
       "    <tr>\n",
       "      <th>4</th>\n",
       "      <td>1.333333</td>\n",
       "      <td>12.0</td>\n",
       "      <td>16.00</td>\n",
       "    </tr>\n",
       "  </tbody>\n",
       "</table>\n",
       "</div>"
      ],
      "text/plain": [
       "   Monthly_Avg_Purchase  TENURE  PURCHASES\n",
       "0              7.950000    12.0      95.40\n",
       "1              0.000000    12.0       0.00\n",
       "2             64.430833    12.0     773.17\n",
       "3            124.916667    12.0    1499.00\n",
       "4              1.333333    12.0      16.00"
      ]
     },
     "execution_count": 18,
     "metadata": {},
     "output_type": "execute_result"
    }
   ],
   "source": [
    "my_df.head()"
   ]
  },
  {
   "cell_type": "code",
   "execution_count": 19,
   "metadata": {},
   "outputs": [
    {
     "data": {
      "text/html": [
       "<div>\n",
       "<style scoped>\n",
       "    .dataframe tbody tr th:only-of-type {\n",
       "        vertical-align: middle;\n",
       "    }\n",
       "\n",
       "    .dataframe tbody tr th {\n",
       "        vertical-align: top;\n",
       "    }\n",
       "\n",
       "    .dataframe thead th {\n",
       "        text-align: right;\n",
       "    }\n",
       "</style>\n",
       "<table border=\"1\" class=\"dataframe\">\n",
       "  <thead>\n",
       "    <tr style=\"text-align: right;\">\n",
       "      <th></th>\n",
       "      <th>Monthly_Avg_Purchase</th>\n",
       "      <th>TENURE</th>\n",
       "      <th>PURCHASES</th>\n",
       "    </tr>\n",
       "  </thead>\n",
       "  <tbody>\n",
       "    <tr>\n",
       "      <th>8945</th>\n",
       "      <td>48.520000</td>\n",
       "      <td>6.0</td>\n",
       "      <td>291.12</td>\n",
       "    </tr>\n",
       "    <tr>\n",
       "      <th>8946</th>\n",
       "      <td>50.000000</td>\n",
       "      <td>6.0</td>\n",
       "      <td>300.00</td>\n",
       "    </tr>\n",
       "    <tr>\n",
       "      <th>8947</th>\n",
       "      <td>24.066667</td>\n",
       "      <td>6.0</td>\n",
       "      <td>144.40</td>\n",
       "    </tr>\n",
       "    <tr>\n",
       "      <th>8948</th>\n",
       "      <td>0.000000</td>\n",
       "      <td>6.0</td>\n",
       "      <td>0.00</td>\n",
       "    </tr>\n",
       "    <tr>\n",
       "      <th>8949</th>\n",
       "      <td>182.208333</td>\n",
       "      <td>6.0</td>\n",
       "      <td>1093.25</td>\n",
       "    </tr>\n",
       "  </tbody>\n",
       "</table>\n",
       "</div>"
      ],
      "text/plain": [
       "      Monthly_Avg_Purchase  TENURE  PURCHASES\n",
       "8945             48.520000     6.0     291.12\n",
       "8946             50.000000     6.0     300.00\n",
       "8947             24.066667     6.0     144.40\n",
       "8948              0.000000     6.0       0.00\n",
       "8949            182.208333     6.0    1093.25"
      ]
     },
     "execution_count": 19,
     "metadata": {},
     "output_type": "execute_result"
    }
   ],
   "source": [
    "my_df.tail()"
   ]
  },
  {
   "cell_type": "markdown",
   "metadata": {},
   "source": [
    "### Count the None ONEOFF PURCHASES"
   ]
  },
  {
   "cell_type": "code",
   "execution_count": 20,
   "metadata": {},
   "outputs": [
    {
     "name": "stdout",
     "output_type": "stream",
     "text": [
      "Total No of none ONEOFF_PURCHASES:  4301\n"
     ]
    }
   ],
   "source": [
    "print(\"Total No of none ONEOFF_PURCHASES: \",df[df['ONEOFF_PURCHASES']==0]['ONEOFF_PURCHASES'].count())"
   ]
  },
  {
   "cell_type": "markdown",
   "metadata": {},
   "source": [
    "### Lets see both types of PURCHASE"
   ]
  },
  {
   "cell_type": "code",
   "execution_count": 21,
   "metadata": {},
   "outputs": [],
   "source": [
    "df_pur = df.loc[:,['ONEOFF_PURCHASES','INSTALLMENTS_PURCHASES']]"
   ]
  },
  {
   "cell_type": "code",
   "execution_count": 22,
   "metadata": {},
   "outputs": [
    {
     "data": {
      "text/html": [
       "<div>\n",
       "<style scoped>\n",
       "    .dataframe tbody tr th:only-of-type {\n",
       "        vertical-align: middle;\n",
       "    }\n",
       "\n",
       "    .dataframe tbody tr th {\n",
       "        vertical-align: top;\n",
       "    }\n",
       "\n",
       "    .dataframe thead th {\n",
       "        text-align: right;\n",
       "    }\n",
       "</style>\n",
       "<table border=\"1\" class=\"dataframe\">\n",
       "  <thead>\n",
       "    <tr style=\"text-align: right;\">\n",
       "      <th></th>\n",
       "      <th>ONEOFF_PURCHASES</th>\n",
       "      <th>INSTALLMENTS_PURCHASES</th>\n",
       "    </tr>\n",
       "  </thead>\n",
       "  <tbody>\n",
       "    <tr>\n",
       "      <th>0</th>\n",
       "      <td>0.00</td>\n",
       "      <td>95.4</td>\n",
       "    </tr>\n",
       "    <tr>\n",
       "      <th>1</th>\n",
       "      <td>0.00</td>\n",
       "      <td>0.0</td>\n",
       "    </tr>\n",
       "    <tr>\n",
       "      <th>2</th>\n",
       "      <td>773.17</td>\n",
       "      <td>0.0</td>\n",
       "    </tr>\n",
       "    <tr>\n",
       "      <th>3</th>\n",
       "      <td>1499.00</td>\n",
       "      <td>0.0</td>\n",
       "    </tr>\n",
       "    <tr>\n",
       "      <th>4</th>\n",
       "      <td>16.00</td>\n",
       "      <td>0.0</td>\n",
       "    </tr>\n",
       "  </tbody>\n",
       "</table>\n",
       "</div>"
      ],
      "text/plain": [
       "   ONEOFF_PURCHASES  INSTALLMENTS_PURCHASES\n",
       "0              0.00                    95.4\n",
       "1              0.00                     0.0\n",
       "2            773.17                     0.0\n",
       "3           1499.00                     0.0\n",
       "4             16.00                     0.0"
      ]
     },
     "execution_count": 22,
     "metadata": {},
     "output_type": "execute_result"
    }
   ],
   "source": [
    "df_pur.head()"
   ]
  },
  {
   "cell_type": "code",
   "execution_count": 23,
   "metadata": {},
   "outputs": [
    {
     "data": {
      "text/html": [
       "<div>\n",
       "<style scoped>\n",
       "    .dataframe tbody tr th:only-of-type {\n",
       "        vertical-align: middle;\n",
       "    }\n",
       "\n",
       "    .dataframe tbody tr th {\n",
       "        vertical-align: top;\n",
       "    }\n",
       "\n",
       "    .dataframe thead th {\n",
       "        text-align: right;\n",
       "    }\n",
       "</style>\n",
       "<table border=\"1\" class=\"dataframe\">\n",
       "  <thead>\n",
       "    <tr style=\"text-align: right;\">\n",
       "      <th></th>\n",
       "      <th>ONEOFF_PURCHASES</th>\n",
       "      <th>INSTALLMENTS_PURCHASES</th>\n",
       "    </tr>\n",
       "  </thead>\n",
       "  <tbody>\n",
       "    <tr>\n",
       "      <th>8945</th>\n",
       "      <td>0.00</td>\n",
       "      <td>291.12</td>\n",
       "    </tr>\n",
       "    <tr>\n",
       "      <th>8946</th>\n",
       "      <td>0.00</td>\n",
       "      <td>300.00</td>\n",
       "    </tr>\n",
       "    <tr>\n",
       "      <th>8947</th>\n",
       "      <td>0.00</td>\n",
       "      <td>144.40</td>\n",
       "    </tr>\n",
       "    <tr>\n",
       "      <th>8948</th>\n",
       "      <td>0.00</td>\n",
       "      <td>0.00</td>\n",
       "    </tr>\n",
       "    <tr>\n",
       "      <th>8949</th>\n",
       "      <td>1093.25</td>\n",
       "      <td>0.00</td>\n",
       "    </tr>\n",
       "  </tbody>\n",
       "</table>\n",
       "</div>"
      ],
      "text/plain": [
       "      ONEOFF_PURCHASES  INSTALLMENTS_PURCHASES\n",
       "8945              0.00                  291.12\n",
       "8946              0.00                  300.00\n",
       "8947              0.00                  144.40\n",
       "8948              0.00                    0.00\n",
       "8949           1093.25                    0.00"
      ]
     },
     "execution_count": 23,
     "metadata": {},
     "output_type": "execute_result"
    }
   ],
   "source": [
    "df_pur.tail()"
   ]
  },
  {
   "cell_type": "markdown",
   "metadata": {},
   "source": [
    "## Let's see the purchase behaviour of customer"
   ]
  },
  {
   "cell_type": "code",
   "execution_count": 24,
   "metadata": {},
   "outputs": [],
   "source": [
    "def purchase_behaviour(df):\n",
    "    df = copy.deepcopy(df)\n",
    "    a=df[(df['ONEOFF_PURCHASES']==0) & (df['INSTALLMENTS_PURCHASES']==0)]\n",
    "    a['Purchase_Type'] = 'None'\n",
    "    b=df[(df['ONEOFF_PURCHASES']>0) & (df['INSTALLMENTS_PURCHASES']>0)]\n",
    "    b['Purchase_Type'] = 'Both_OneOff_Installment'\n",
    "    c=df[(df['ONEOFF_PURCHASES']>0) & (df['INSTALLMENTS_PURCHASES']==0)]\n",
    "    c['Purchase_Type'] = 'OneOff'\n",
    "    d= df[(df['ONEOFF_PURCHASES']==0) & (df['INSTALLMENTS_PURCHASES']>0)]\n",
    "    d['Purchase_Type'] = 'Istallment'\n",
    "    print(\"=-=\"*40)\n",
    "    print(\"Total None for both: \",a.shape[0])\n",
    "    print(\"Total No for both:\",b.shape[0])\n",
    "    print(\"Total No for OneOff: \",c.shape[0])\n",
    "    print(\"Total No for Instalment :\",d.shape[0])\n",
    "    \n",
    "    # concat the datarame\n",
    "    if len(df) !=0:\n",
    "        final_df = pd.concat([a,b,c,d],axis=0)\n",
    "    return final_df\n",
    "    "
   ]
  },
  {
   "cell_type": "code",
   "execution_count": 25,
   "metadata": {},
   "outputs": [
    {
     "name": "stdout",
     "output_type": "stream",
     "text": [
      "=-==-==-==-==-==-==-==-==-==-==-==-==-==-==-==-==-==-==-==-==-==-==-==-==-==-==-==-==-==-==-==-==-==-==-==-==-==-==-==-=\n",
      "Total None for both:  2041\n",
      "Total No for both: 2774\n",
      "Total No for OneOff:  1874\n",
      "Total No for Instalment : 2260\n"
     ]
    }
   ],
   "source": [
    "df_p=purchase_behaviour(df)"
   ]
  },
  {
   "cell_type": "code",
   "execution_count": 26,
   "metadata": {},
   "outputs": [],
   "source": [
    "df_p = df_p.sort_values(by='CUST_ID')"
   ]
  },
  {
   "cell_type": "code",
   "execution_count": 27,
   "metadata": {},
   "outputs": [
    {
     "data": {
      "text/html": [
       "<div>\n",
       "<style scoped>\n",
       "    .dataframe tbody tr th:only-of-type {\n",
       "        vertical-align: middle;\n",
       "    }\n",
       "\n",
       "    .dataframe tbody tr th {\n",
       "        vertical-align: top;\n",
       "    }\n",
       "\n",
       "    .dataframe thead th {\n",
       "        text-align: right;\n",
       "    }\n",
       "</style>\n",
       "<table border=\"1\" class=\"dataframe\">\n",
       "  <thead>\n",
       "    <tr style=\"text-align: right;\">\n",
       "      <th></th>\n",
       "      <th>CUST_ID</th>\n",
       "      <th>BALANCE</th>\n",
       "      <th>BALANCE_FREQUENCY</th>\n",
       "      <th>PURCHASES</th>\n",
       "      <th>ONEOFF_PURCHASES</th>\n",
       "      <th>INSTALLMENTS_PURCHASES</th>\n",
       "      <th>CASH_ADVANCE</th>\n",
       "      <th>PURCHASES_FREQUENCY</th>\n",
       "      <th>ONEOFF_PURCHASES_FREQUENCY</th>\n",
       "      <th>PURCHASES_INSTALLMENTS_FREQUENCY</th>\n",
       "      <th>...</th>\n",
       "      <th>CASH_ADVANCE_TRX</th>\n",
       "      <th>PURCHASES_TRX</th>\n",
       "      <th>CREDIT_LIMIT</th>\n",
       "      <th>PAYMENTS</th>\n",
       "      <th>MINIMUM_PAYMENTS</th>\n",
       "      <th>PRC_FULL_PAYMENT</th>\n",
       "      <th>TENURE</th>\n",
       "      <th>Monthly_Avg_Purchase</th>\n",
       "      <th>Monthly_Cash_Advance</th>\n",
       "      <th>Purchase_Type</th>\n",
       "    </tr>\n",
       "  </thead>\n",
       "  <tbody>\n",
       "    <tr>\n",
       "      <th>0</th>\n",
       "      <td>C10001</td>\n",
       "      <td>40.900749</td>\n",
       "      <td>0.818182</td>\n",
       "      <td>95.40</td>\n",
       "      <td>0.00</td>\n",
       "      <td>95.4</td>\n",
       "      <td>0.000000</td>\n",
       "      <td>0.166667</td>\n",
       "      <td>0.000000</td>\n",
       "      <td>0.083333</td>\n",
       "      <td>...</td>\n",
       "      <td>0.0</td>\n",
       "      <td>2.0</td>\n",
       "      <td>1000.0</td>\n",
       "      <td>201.802084</td>\n",
       "      <td>139.509787</td>\n",
       "      <td>0.000000</td>\n",
       "      <td>12.0</td>\n",
       "      <td>7.950000</td>\n",
       "      <td>0.000000</td>\n",
       "      <td>Istallment</td>\n",
       "    </tr>\n",
       "    <tr>\n",
       "      <th>1</th>\n",
       "      <td>C10002</td>\n",
       "      <td>3202.467416</td>\n",
       "      <td>0.909091</td>\n",
       "      <td>0.00</td>\n",
       "      <td>0.00</td>\n",
       "      <td>0.0</td>\n",
       "      <td>6442.945483</td>\n",
       "      <td>0.000000</td>\n",
       "      <td>0.000000</td>\n",
       "      <td>0.000000</td>\n",
       "      <td>...</td>\n",
       "      <td>4.0</td>\n",
       "      <td>0.0</td>\n",
       "      <td>7000.0</td>\n",
       "      <td>4103.032597</td>\n",
       "      <td>1072.340217</td>\n",
       "      <td>0.222222</td>\n",
       "      <td>12.0</td>\n",
       "      <td>0.000000</td>\n",
       "      <td>536.912124</td>\n",
       "      <td>None</td>\n",
       "    </tr>\n",
       "    <tr>\n",
       "      <th>2</th>\n",
       "      <td>C10003</td>\n",
       "      <td>2495.148862</td>\n",
       "      <td>1.000000</td>\n",
       "      <td>773.17</td>\n",
       "      <td>773.17</td>\n",
       "      <td>0.0</td>\n",
       "      <td>0.000000</td>\n",
       "      <td>1.000000</td>\n",
       "      <td>1.000000</td>\n",
       "      <td>0.000000</td>\n",
       "      <td>...</td>\n",
       "      <td>0.0</td>\n",
       "      <td>12.0</td>\n",
       "      <td>7500.0</td>\n",
       "      <td>622.066742</td>\n",
       "      <td>627.284787</td>\n",
       "      <td>0.000000</td>\n",
       "      <td>12.0</td>\n",
       "      <td>64.430833</td>\n",
       "      <td>0.000000</td>\n",
       "      <td>OneOff</td>\n",
       "    </tr>\n",
       "    <tr>\n",
       "      <th>3</th>\n",
       "      <td>C10004</td>\n",
       "      <td>1666.670542</td>\n",
       "      <td>0.636364</td>\n",
       "      <td>1499.00</td>\n",
       "      <td>1499.00</td>\n",
       "      <td>0.0</td>\n",
       "      <td>205.788017</td>\n",
       "      <td>0.083333</td>\n",
       "      <td>0.083333</td>\n",
       "      <td>0.000000</td>\n",
       "      <td>...</td>\n",
       "      <td>1.0</td>\n",
       "      <td>1.0</td>\n",
       "      <td>7500.0</td>\n",
       "      <td>0.000000</td>\n",
       "      <td>312.343947</td>\n",
       "      <td>0.000000</td>\n",
       "      <td>12.0</td>\n",
       "      <td>124.916667</td>\n",
       "      <td>17.149001</td>\n",
       "      <td>OneOff</td>\n",
       "    </tr>\n",
       "    <tr>\n",
       "      <th>4</th>\n",
       "      <td>C10005</td>\n",
       "      <td>817.714335</td>\n",
       "      <td>1.000000</td>\n",
       "      <td>16.00</td>\n",
       "      <td>16.00</td>\n",
       "      <td>0.0</td>\n",
       "      <td>0.000000</td>\n",
       "      <td>0.083333</td>\n",
       "      <td>0.083333</td>\n",
       "      <td>0.000000</td>\n",
       "      <td>...</td>\n",
       "      <td>0.0</td>\n",
       "      <td>1.0</td>\n",
       "      <td>1200.0</td>\n",
       "      <td>678.334763</td>\n",
       "      <td>244.791237</td>\n",
       "      <td>0.000000</td>\n",
       "      <td>12.0</td>\n",
       "      <td>1.333333</td>\n",
       "      <td>0.000000</td>\n",
       "      <td>OneOff</td>\n",
       "    </tr>\n",
       "  </tbody>\n",
       "</table>\n",
       "<p>5 rows × 21 columns</p>\n",
       "</div>"
      ],
      "text/plain": [
       "  CUST_ID      BALANCE  BALANCE_FREQUENCY  PURCHASES  ONEOFF_PURCHASES  \\\n",
       "0  C10001    40.900749           0.818182      95.40              0.00   \n",
       "1  C10002  3202.467416           0.909091       0.00              0.00   \n",
       "2  C10003  2495.148862           1.000000     773.17            773.17   \n",
       "3  C10004  1666.670542           0.636364    1499.00           1499.00   \n",
       "4  C10005   817.714335           1.000000      16.00             16.00   \n",
       "\n",
       "   INSTALLMENTS_PURCHASES  CASH_ADVANCE  PURCHASES_FREQUENCY  \\\n",
       "0                    95.4      0.000000             0.166667   \n",
       "1                     0.0   6442.945483             0.000000   \n",
       "2                     0.0      0.000000             1.000000   \n",
       "3                     0.0    205.788017             0.083333   \n",
       "4                     0.0      0.000000             0.083333   \n",
       "\n",
       "   ONEOFF_PURCHASES_FREQUENCY  PURCHASES_INSTALLMENTS_FREQUENCY  ...  \\\n",
       "0                    0.000000                          0.083333  ...   \n",
       "1                    0.000000                          0.000000  ...   \n",
       "2                    1.000000                          0.000000  ...   \n",
       "3                    0.083333                          0.000000  ...   \n",
       "4                    0.083333                          0.000000  ...   \n",
       "\n",
       "   CASH_ADVANCE_TRX  PURCHASES_TRX  CREDIT_LIMIT     PAYMENTS  \\\n",
       "0               0.0            2.0        1000.0   201.802084   \n",
       "1               4.0            0.0        7000.0  4103.032597   \n",
       "2               0.0           12.0        7500.0   622.066742   \n",
       "3               1.0            1.0        7500.0     0.000000   \n",
       "4               0.0            1.0        1200.0   678.334763   \n",
       "\n",
       "   MINIMUM_PAYMENTS  PRC_FULL_PAYMENT  TENURE  Monthly_Avg_Purchase  \\\n",
       "0        139.509787          0.000000    12.0              7.950000   \n",
       "1       1072.340217          0.222222    12.0              0.000000   \n",
       "2        627.284787          0.000000    12.0             64.430833   \n",
       "3        312.343947          0.000000    12.0            124.916667   \n",
       "4        244.791237          0.000000    12.0              1.333333   \n",
       "\n",
       "   Monthly_Cash_Advance  Purchase_Type  \n",
       "0              0.000000     Istallment  \n",
       "1            536.912124           None  \n",
       "2              0.000000         OneOff  \n",
       "3             17.149001         OneOff  \n",
       "4              0.000000         OneOff  \n",
       "\n",
       "[5 rows x 21 columns]"
      ]
     },
     "execution_count": 27,
     "metadata": {},
     "output_type": "execute_result"
    }
   ],
   "source": [
    "df_p.head()"
   ]
  },
  {
   "cell_type": "markdown",
   "metadata": {},
   "source": [
    "## Limit usage (balance to credit limit ratio)\n",
    "[Credit_Score](https://www.equifax.com/personal/education/credit/score/what-is-a-good-credit-score/#:~:text=Although%20ranges%20vary%20depending%20on,and%20up%20are%20considered%20excellent.) and\n",
    "[Credit_Limit use](https://www.thebalance.com/how-to-calculate-your-credit-utilization-ratio-960473#:~:text=Let%27s%20say%20your%20credit%20card%20balance%20is%20%24600,all%20your%20accounts%2C%20first%20add%20all%20the%20balances.)"
   ]
  },
  {
   "cell_type": "code",
   "execution_count": 28,
   "metadata": {},
   "outputs": [],
   "source": [
    "df['Limit_Usage']=df.apply(lambda x: (x['BALANCE']/x['CREDIT_LIMIT']), axis=1)"
   ]
  },
  {
   "cell_type": "code",
   "execution_count": 29,
   "metadata": {},
   "outputs": [],
   "source": [
    "# Lower values indicate customer doesn't used credit more"
   ]
  },
  {
   "cell_type": "markdown",
   "metadata": {},
   "source": [
    "# Payments to minimum payments ratio"
   ]
  },
  {
   "cell_type": "code",
   "execution_count": 30,
   "metadata": {},
   "outputs": [],
   "source": [
    "df['Payment_Minpay']=df.apply(lambda x:(x['PAYMENTS']/x['MINIMUM_PAYMENTS']),axis=1)"
   ]
  },
  {
   "cell_type": "code",
   "execution_count": 31,
   "metadata": {},
   "outputs": [],
   "source": [
    "df['Purchase_Type']=df_p.loc[:,'Purchase_Type']"
   ]
  },
  {
   "cell_type": "code",
   "execution_count": 32,
   "metadata": {},
   "outputs": [
    {
     "data": {
      "text/html": [
       "<div>\n",
       "<style scoped>\n",
       "    .dataframe tbody tr th:only-of-type {\n",
       "        vertical-align: middle;\n",
       "    }\n",
       "\n",
       "    .dataframe tbody tr th {\n",
       "        vertical-align: top;\n",
       "    }\n",
       "\n",
       "    .dataframe thead th {\n",
       "        text-align: right;\n",
       "    }\n",
       "</style>\n",
       "<table border=\"1\" class=\"dataframe\">\n",
       "  <thead>\n",
       "    <tr style=\"text-align: right;\">\n",
       "      <th></th>\n",
       "      <th>CUST_ID</th>\n",
       "      <th>BALANCE</th>\n",
       "      <th>BALANCE_FREQUENCY</th>\n",
       "      <th>PURCHASES</th>\n",
       "      <th>ONEOFF_PURCHASES</th>\n",
       "      <th>INSTALLMENTS_PURCHASES</th>\n",
       "      <th>CASH_ADVANCE</th>\n",
       "      <th>PURCHASES_FREQUENCY</th>\n",
       "      <th>ONEOFF_PURCHASES_FREQUENCY</th>\n",
       "      <th>PURCHASES_INSTALLMENTS_FREQUENCY</th>\n",
       "      <th>...</th>\n",
       "      <th>CREDIT_LIMIT</th>\n",
       "      <th>PAYMENTS</th>\n",
       "      <th>MINIMUM_PAYMENTS</th>\n",
       "      <th>PRC_FULL_PAYMENT</th>\n",
       "      <th>TENURE</th>\n",
       "      <th>Monthly_Avg_Purchase</th>\n",
       "      <th>Monthly_Cash_Advance</th>\n",
       "      <th>Limit_Usage</th>\n",
       "      <th>Payment_Minpay</th>\n",
       "      <th>Purchase_Type</th>\n",
       "    </tr>\n",
       "  </thead>\n",
       "  <tbody>\n",
       "    <tr>\n",
       "      <th>0</th>\n",
       "      <td>C10001</td>\n",
       "      <td>40.900749</td>\n",
       "      <td>0.818182</td>\n",
       "      <td>95.40</td>\n",
       "      <td>0.00</td>\n",
       "      <td>95.4</td>\n",
       "      <td>0.000000</td>\n",
       "      <td>0.166667</td>\n",
       "      <td>0.000000</td>\n",
       "      <td>0.083333</td>\n",
       "      <td>...</td>\n",
       "      <td>1000.0</td>\n",
       "      <td>201.802084</td>\n",
       "      <td>139.509787</td>\n",
       "      <td>0.000000</td>\n",
       "      <td>12.0</td>\n",
       "      <td>7.950000</td>\n",
       "      <td>0.000000</td>\n",
       "      <td>0.040901</td>\n",
       "      <td>1.446508</td>\n",
       "      <td>Istallment</td>\n",
       "    </tr>\n",
       "    <tr>\n",
       "      <th>1</th>\n",
       "      <td>C10002</td>\n",
       "      <td>3202.467416</td>\n",
       "      <td>0.909091</td>\n",
       "      <td>0.00</td>\n",
       "      <td>0.00</td>\n",
       "      <td>0.0</td>\n",
       "      <td>6442.945483</td>\n",
       "      <td>0.000000</td>\n",
       "      <td>0.000000</td>\n",
       "      <td>0.000000</td>\n",
       "      <td>...</td>\n",
       "      <td>7000.0</td>\n",
       "      <td>4103.032597</td>\n",
       "      <td>1072.340217</td>\n",
       "      <td>0.222222</td>\n",
       "      <td>12.0</td>\n",
       "      <td>0.000000</td>\n",
       "      <td>536.912124</td>\n",
       "      <td>0.457495</td>\n",
       "      <td>3.826241</td>\n",
       "      <td>None</td>\n",
       "    </tr>\n",
       "    <tr>\n",
       "      <th>2</th>\n",
       "      <td>C10003</td>\n",
       "      <td>2495.148862</td>\n",
       "      <td>1.000000</td>\n",
       "      <td>773.17</td>\n",
       "      <td>773.17</td>\n",
       "      <td>0.0</td>\n",
       "      <td>0.000000</td>\n",
       "      <td>1.000000</td>\n",
       "      <td>1.000000</td>\n",
       "      <td>0.000000</td>\n",
       "      <td>...</td>\n",
       "      <td>7500.0</td>\n",
       "      <td>622.066742</td>\n",
       "      <td>627.284787</td>\n",
       "      <td>0.000000</td>\n",
       "      <td>12.0</td>\n",
       "      <td>64.430833</td>\n",
       "      <td>0.000000</td>\n",
       "      <td>0.332687</td>\n",
       "      <td>0.991682</td>\n",
       "      <td>OneOff</td>\n",
       "    </tr>\n",
       "    <tr>\n",
       "      <th>3</th>\n",
       "      <td>C10004</td>\n",
       "      <td>1666.670542</td>\n",
       "      <td>0.636364</td>\n",
       "      <td>1499.00</td>\n",
       "      <td>1499.00</td>\n",
       "      <td>0.0</td>\n",
       "      <td>205.788017</td>\n",
       "      <td>0.083333</td>\n",
       "      <td>0.083333</td>\n",
       "      <td>0.000000</td>\n",
       "      <td>...</td>\n",
       "      <td>7500.0</td>\n",
       "      <td>0.000000</td>\n",
       "      <td>312.343947</td>\n",
       "      <td>0.000000</td>\n",
       "      <td>12.0</td>\n",
       "      <td>124.916667</td>\n",
       "      <td>17.149001</td>\n",
       "      <td>0.222223</td>\n",
       "      <td>0.000000</td>\n",
       "      <td>OneOff</td>\n",
       "    </tr>\n",
       "    <tr>\n",
       "      <th>4</th>\n",
       "      <td>C10005</td>\n",
       "      <td>817.714335</td>\n",
       "      <td>1.000000</td>\n",
       "      <td>16.00</td>\n",
       "      <td>16.00</td>\n",
       "      <td>0.0</td>\n",
       "      <td>0.000000</td>\n",
       "      <td>0.083333</td>\n",
       "      <td>0.083333</td>\n",
       "      <td>0.000000</td>\n",
       "      <td>...</td>\n",
       "      <td>1200.0</td>\n",
       "      <td>678.334763</td>\n",
       "      <td>244.791237</td>\n",
       "      <td>0.000000</td>\n",
       "      <td>12.0</td>\n",
       "      <td>1.333333</td>\n",
       "      <td>0.000000</td>\n",
       "      <td>0.681429</td>\n",
       "      <td>2.771075</td>\n",
       "      <td>OneOff</td>\n",
       "    </tr>\n",
       "  </tbody>\n",
       "</table>\n",
       "<p>5 rows × 23 columns</p>\n",
       "</div>"
      ],
      "text/plain": [
       "  CUST_ID      BALANCE  BALANCE_FREQUENCY  PURCHASES  ONEOFF_PURCHASES  \\\n",
       "0  C10001    40.900749           0.818182      95.40              0.00   \n",
       "1  C10002  3202.467416           0.909091       0.00              0.00   \n",
       "2  C10003  2495.148862           1.000000     773.17            773.17   \n",
       "3  C10004  1666.670542           0.636364    1499.00           1499.00   \n",
       "4  C10005   817.714335           1.000000      16.00             16.00   \n",
       "\n",
       "   INSTALLMENTS_PURCHASES  CASH_ADVANCE  PURCHASES_FREQUENCY  \\\n",
       "0                    95.4      0.000000             0.166667   \n",
       "1                     0.0   6442.945483             0.000000   \n",
       "2                     0.0      0.000000             1.000000   \n",
       "3                     0.0    205.788017             0.083333   \n",
       "4                     0.0      0.000000             0.083333   \n",
       "\n",
       "   ONEOFF_PURCHASES_FREQUENCY  PURCHASES_INSTALLMENTS_FREQUENCY  ...  \\\n",
       "0                    0.000000                          0.083333  ...   \n",
       "1                    0.000000                          0.000000  ...   \n",
       "2                    1.000000                          0.000000  ...   \n",
       "3                    0.083333                          0.000000  ...   \n",
       "4                    0.083333                          0.000000  ...   \n",
       "\n",
       "   CREDIT_LIMIT     PAYMENTS  MINIMUM_PAYMENTS  PRC_FULL_PAYMENT  TENURE  \\\n",
       "0        1000.0   201.802084        139.509787          0.000000    12.0   \n",
       "1        7000.0  4103.032597       1072.340217          0.222222    12.0   \n",
       "2        7500.0   622.066742        627.284787          0.000000    12.0   \n",
       "3        7500.0     0.000000        312.343947          0.000000    12.0   \n",
       "4        1200.0   678.334763        244.791237          0.000000    12.0   \n",
       "\n",
       "   Monthly_Avg_Purchase  Monthly_Cash_Advance  Limit_Usage  Payment_Minpay  \\\n",
       "0              7.950000              0.000000     0.040901        1.446508   \n",
       "1              0.000000            536.912124     0.457495        3.826241   \n",
       "2             64.430833              0.000000     0.332687        0.991682   \n",
       "3            124.916667             17.149001     0.222223        0.000000   \n",
       "4              1.333333              0.000000     0.681429        2.771075   \n",
       "\n",
       "   Purchase_Type  \n",
       "0     Istallment  \n",
       "1           None  \n",
       "2         OneOff  \n",
       "3         OneOff  \n",
       "4         OneOff  \n",
       "\n",
       "[5 rows x 23 columns]"
      ]
     },
     "execution_count": 32,
     "metadata": {},
     "output_type": "execute_result"
    }
   ],
   "source": [
    "df.head()"
   ]
  },
  {
   "cell_type": "markdown",
   "metadata": {},
   "source": [
    "# Insight from KPI\n",
    "###  Average payment_minpayment ratio for each purchse type."
   ]
  },
  {
   "cell_type": "code",
   "execution_count": 33,
   "metadata": {},
   "outputs": [],
   "source": [
    "avg_pay=df.groupby('Purchase_Type').apply(lambda x: np.mean(x['Payment_Minpay']))"
   ]
  },
  {
   "cell_type": "code",
   "execution_count": 34,
   "metadata": {},
   "outputs": [
    {
     "data": {
      "text/plain": [
       "Purchase_Type\n",
       "Both_OneOff_Installment     7.236982\n",
       "Istallment                 13.259004\n",
       "None                       10.092086\n",
       "OneOff                      5.571082\n",
       "dtype: float64"
      ]
     },
     "execution_count": 34,
     "metadata": {},
     "output_type": "execute_result"
    }
   ],
   "source": [
    "avg_pay"
   ]
  },
  {
   "cell_type": "code",
   "execution_count": 35,
   "metadata": {},
   "outputs": [
    {
     "data": {
      "image/png": "[encoded data removed]",
      "text/plain": [
       "<Figure size 576x360 with 1 Axes>"
      ]
     },
     "metadata": {
      "needs_background": "light"
     },
     "output_type": "display_data"
    }
   ],
   "source": [
    "%matplotlib inline\n",
    "plt.figure(figsize=(8,5))\n",
    "plt.title('Mean payment_minpayment ratio for each purchse types')\n",
    "df.groupby('Purchase_Type').apply(lambda x: np.mean(x['Payment_Minpay'])).plot.barh()\n",
    "plt.show()"
   ]
  },
  {
   "cell_type": "code",
   "execution_count": 36,
   "metadata": {},
   "outputs": [],
   "source": [
    "mon_avg_pay=df.groupby('Purchase_Type').apply(lambda x: np.mean(x['Monthly_Cash_Advance']))"
   ]
  },
  {
   "cell_type": "code",
   "execution_count": 37,
   "metadata": {},
   "outputs": [
    {
     "data": {
      "image/png": "[encoded data removed]",
      "text/plain": [
       "<Figure size 576x360 with 1 Axes>"
      ]
     },
     "metadata": {
      "needs_background": "light"
     },
     "output_type": "display_data"
    }
   ],
   "source": [
    "%matplotlib inline\n",
    "plt.figure(figsize=(8,5))\n",
    "plt.title('Average cash advance taken by customers of different Purchase type')\n",
    "df.groupby('Purchase_Type').apply(lambda x: np.mean(x['Monthly_Cash_Advance'])).plot.barh()\n",
    "plt.show()"
   ]
  },
  {
   "cell_type": "code",
   "execution_count": 38,
   "metadata": {},
   "outputs": [],
   "source": [
    "limit_avg_pay=df.groupby('Purchase_Type').apply(lambda x: np.mean(x['Limit_Usage']))"
   ]
  },
  {
   "cell_type": "code",
   "execution_count": 39,
   "metadata": {},
   "outputs": [
    {
     "data": {
      "text/plain": [
       "Purchase_Type\n",
       "Both_OneOff_Installment    0.353548\n",
       "Istallment                 0.271678\n",
       "None                       0.574049\n",
       "OneOff                     0.381074\n",
       "dtype: float64"
      ]
     },
     "execution_count": 39,
     "metadata": {},
     "output_type": "execute_result"
    }
   ],
   "source": [
    "limit_avg_pay"
   ]
  },
  {
   "cell_type": "code",
   "execution_count": 40,
   "metadata": {},
   "outputs": [
    {
     "data": {
      "image/png": "[encoded data removed]",
      "text/plain": [
       "<Figure size 576x360 with 1 Axes>"
      ]
     },
     "metadata": {
      "needs_background": "light"
     },
     "output_type": "display_data"
    }
   ],
   "source": [
    "%matplotlib inline\n",
    "plt.figure(figsize=(8,5))\n",
    "plt.title('Average limit usage by customers of different Purchase type')\n",
    "df.groupby('Purchase_Type').apply(lambda x: np.mean(x['Limit_Usage'])).plot.barh()\n",
    "plt.show()"
   ]
  },
  {
   "cell_type": "code",
   "execution_count": 41,
   "metadata": {},
   "outputs": [],
   "source": [
    "dataset = copy.deepcopy(df[['Purchase_Type']])"
   ]
  },
  {
   "cell_type": "code",
   "execution_count": 42,
   "metadata": {},
   "outputs": [],
   "source": [
    "dataset=pd.concat([dataset,pd.get_dummies(dataset['Purchase_Type'])],axis=1)"
   ]
  },
  {
   "cell_type": "code",
   "execution_count": 43,
   "metadata": {},
   "outputs": [
    {
     "data": {
      "text/html": [
       "<div>\n",
       "<style scoped>\n",
       "    .dataframe tbody tr th:only-of-type {\n",
       "        vertical-align: middle;\n",
       "    }\n",
       "\n",
       "    .dataframe tbody tr th {\n",
       "        vertical-align: top;\n",
       "    }\n",
       "\n",
       "    .dataframe thead th {\n",
       "        text-align: right;\n",
       "    }\n",
       "</style>\n",
       "<table border=\"1\" class=\"dataframe\">\n",
       "  <thead>\n",
       "    <tr style=\"text-align: right;\">\n",
       "      <th></th>\n",
       "      <th>CUST_ID</th>\n",
       "      <th>BALANCE</th>\n",
       "      <th>BALANCE_FREQUENCY</th>\n",
       "      <th>PURCHASES</th>\n",
       "      <th>ONEOFF_PURCHASES</th>\n",
       "      <th>INSTALLMENTS_PURCHASES</th>\n",
       "      <th>CASH_ADVANCE</th>\n",
       "      <th>PURCHASES_FREQUENCY</th>\n",
       "      <th>ONEOFF_PURCHASES_FREQUENCY</th>\n",
       "      <th>PURCHASES_INSTALLMENTS_FREQUENCY</th>\n",
       "      <th>...</th>\n",
       "      <th>CREDIT_LIMIT</th>\n",
       "      <th>PAYMENTS</th>\n",
       "      <th>MINIMUM_PAYMENTS</th>\n",
       "      <th>PRC_FULL_PAYMENT</th>\n",
       "      <th>TENURE</th>\n",
       "      <th>Monthly_Avg_Purchase</th>\n",
       "      <th>Monthly_Cash_Advance</th>\n",
       "      <th>Limit_Usage</th>\n",
       "      <th>Payment_Minpay</th>\n",
       "      <th>Purchase_Type</th>\n",
       "    </tr>\n",
       "  </thead>\n",
       "  <tbody>\n",
       "    <tr>\n",
       "      <th>0</th>\n",
       "      <td>C10001</td>\n",
       "      <td>40.900749</td>\n",
       "      <td>0.818182</td>\n",
       "      <td>95.40</td>\n",
       "      <td>0.00</td>\n",
       "      <td>95.4</td>\n",
       "      <td>0.000000</td>\n",
       "      <td>0.166667</td>\n",
       "      <td>0.000000</td>\n",
       "      <td>0.083333</td>\n",
       "      <td>...</td>\n",
       "      <td>1000.0</td>\n",
       "      <td>201.802084</td>\n",
       "      <td>139.509787</td>\n",
       "      <td>0.000000</td>\n",
       "      <td>12.0</td>\n",
       "      <td>7.950000</td>\n",
       "      <td>0.000000</td>\n",
       "      <td>0.040901</td>\n",
       "      <td>1.446508</td>\n",
       "      <td>Istallment</td>\n",
       "    </tr>\n",
       "    <tr>\n",
       "      <th>1</th>\n",
       "      <td>C10002</td>\n",
       "      <td>3202.467416</td>\n",
       "      <td>0.909091</td>\n",
       "      <td>0.00</td>\n",
       "      <td>0.00</td>\n",
       "      <td>0.0</td>\n",
       "      <td>6442.945483</td>\n",
       "      <td>0.000000</td>\n",
       "      <td>0.000000</td>\n",
       "      <td>0.000000</td>\n",
       "      <td>...</td>\n",
       "      <td>7000.0</td>\n",
       "      <td>4103.032597</td>\n",
       "      <td>1072.340217</td>\n",
       "      <td>0.222222</td>\n",
       "      <td>12.0</td>\n",
       "      <td>0.000000</td>\n",
       "      <td>536.912124</td>\n",
       "      <td>0.457495</td>\n",
       "      <td>3.826241</td>\n",
       "      <td>None</td>\n",
       "    </tr>\n",
       "    <tr>\n",
       "      <th>2</th>\n",
       "      <td>C10003</td>\n",
       "      <td>2495.148862</td>\n",
       "      <td>1.000000</td>\n",
       "      <td>773.17</td>\n",
       "      <td>773.17</td>\n",
       "      <td>0.0</td>\n",
       "      <td>0.000000</td>\n",
       "      <td>1.000000</td>\n",
       "      <td>1.000000</td>\n",
       "      <td>0.000000</td>\n",
       "      <td>...</td>\n",
       "      <td>7500.0</td>\n",
       "      <td>622.066742</td>\n",
       "      <td>627.284787</td>\n",
       "      <td>0.000000</td>\n",
       "      <td>12.0</td>\n",
       "      <td>64.430833</td>\n",
       "      <td>0.000000</td>\n",
       "      <td>0.332687</td>\n",
       "      <td>0.991682</td>\n",
       "      <td>OneOff</td>\n",
       "    </tr>\n",
       "    <tr>\n",
       "      <th>3</th>\n",
       "      <td>C10004</td>\n",
       "      <td>1666.670542</td>\n",
       "      <td>0.636364</td>\n",
       "      <td>1499.00</td>\n",
       "      <td>1499.00</td>\n",
       "      <td>0.0</td>\n",
       "      <td>205.788017</td>\n",
       "      <td>0.083333</td>\n",
       "      <td>0.083333</td>\n",
       "      <td>0.000000</td>\n",
       "      <td>...</td>\n",
       "      <td>7500.0</td>\n",
       "      <td>0.000000</td>\n",
       "      <td>312.343947</td>\n",
       "      <td>0.000000</td>\n",
       "      <td>12.0</td>\n",
       "      <td>124.916667</td>\n",
       "      <td>17.149001</td>\n",
       "      <td>0.222223</td>\n",
       "      <td>0.000000</td>\n",
       "      <td>OneOff</td>\n",
       "    </tr>\n",
       "    <tr>\n",
       "      <th>4</th>\n",
       "      <td>C10005</td>\n",
       "      <td>817.714335</td>\n",
       "      <td>1.000000</td>\n",
       "      <td>16.00</td>\n",
       "      <td>16.00</td>\n",
       "      <td>0.0</td>\n",
       "      <td>0.000000</td>\n",
       "      <td>0.083333</td>\n",
       "      <td>0.083333</td>\n",
       "      <td>0.000000</td>\n",
       "      <td>...</td>\n",
       "      <td>1200.0</td>\n",
       "      <td>678.334763</td>\n",
       "      <td>244.791237</td>\n",
       "      <td>0.000000</td>\n",
       "      <td>12.0</td>\n",
       "      <td>1.333333</td>\n",
       "      <td>0.000000</td>\n",
       "      <td>0.681429</td>\n",
       "      <td>2.771075</td>\n",
       "      <td>OneOff</td>\n",
       "    </tr>\n",
       "  </tbody>\n",
       "</table>\n",
       "<p>5 rows × 23 columns</p>\n",
       "</div>"
      ],
      "text/plain": [
       "  CUST_ID      BALANCE  BALANCE_FREQUENCY  PURCHASES  ONEOFF_PURCHASES  \\\n",
       "0  C10001    40.900749           0.818182      95.40              0.00   \n",
       "1  C10002  3202.467416           0.909091       0.00              0.00   \n",
       "2  C10003  2495.148862           1.000000     773.17            773.17   \n",
       "3  C10004  1666.670542           0.636364    1499.00           1499.00   \n",
       "4  C10005   817.714335           1.000000      16.00             16.00   \n",
       "\n",
       "   INSTALLMENTS_PURCHASES  CASH_ADVANCE  PURCHASES_FREQUENCY  \\\n",
       "0                    95.4      0.000000             0.166667   \n",
       "1                     0.0   6442.945483             0.000000   \n",
       "2                     0.0      0.000000             1.000000   \n",
       "3                     0.0    205.788017             0.083333   \n",
       "4                     0.0      0.000000             0.083333   \n",
       "\n",
       "   ONEOFF_PURCHASES_FREQUENCY  PURCHASES_INSTALLMENTS_FREQUENCY  ...  \\\n",
       "0                    0.000000                          0.083333  ...   \n",
       "1                    0.000000                          0.000000  ...   \n",
       "2                    1.000000                          0.000000  ...   \n",
       "3                    0.083333                          0.000000  ...   \n",
       "4                    0.083333                          0.000000  ...   \n",
       "\n",
       "   CREDIT_LIMIT     PAYMENTS  MINIMUM_PAYMENTS  PRC_FULL_PAYMENT  TENURE  \\\n",
       "0        1000.0   201.802084        139.509787          0.000000    12.0   \n",
       "1        7000.0  4103.032597       1072.340217          0.222222    12.0   \n",
       "2        7500.0   622.066742        627.284787          0.000000    12.0   \n",
       "3        7500.0     0.000000        312.343947          0.000000    12.0   \n",
       "4        1200.0   678.334763        244.791237          0.000000    12.0   \n",
       "\n",
       "   Monthly_Avg_Purchase  Monthly_Cash_Advance  Limit_Usage  Payment_Minpay  \\\n",
       "0              7.950000              0.000000     0.040901        1.446508   \n",
       "1              0.000000            536.912124     0.457495        3.826241   \n",
       "2             64.430833              0.000000     0.332687        0.991682   \n",
       "3            124.916667             17.149001     0.222223        0.000000   \n",
       "4              1.333333              0.000000     0.681429        2.771075   \n",
       "\n",
       "   Purchase_Type  \n",
       "0     Istallment  \n",
       "1           None  \n",
       "2         OneOff  \n",
       "3         OneOff  \n",
       "4         OneOff  \n",
       "\n",
       "[5 rows x 23 columns]"
      ]
     },
     "execution_count": 43,
     "metadata": {},
     "output_type": "execute_result"
    }
   ],
   "source": [
    "df.head()"
   ]
  },
  {
   "cell_type": "code",
   "execution_count": 44,
   "metadata": {},
   "outputs": [],
   "source": [
    "def correlation(df):\n",
    "    sn.set(style=\"white\")\n",
    "    dataset = copy.deepcopy(df)\n",
    "    corr = dataset.drop(columns = ['CUST_ID','Purchase_Type']).corr()\n",
    "    # Generate a mask for the upper triangle\n",
    "    mask = np.zeros_like(corr, dtype=np.bool)\n",
    "    mask[np.triu_indices_from(mask)] = True\n",
    "\n",
    "    f, ax = plt.subplots(figsize=(18, 15))\n",
    "    cmap = sn.diverging_palette(220, 10, as_cmap=False)\n",
    "    sn.heatmap(np.round(corr,2), mask=mask, cmap=cmap, vmax=1, center=0,annot=True,\n",
    "                square=True, linewidths=.5, cbar_kws={\"shrink\": .6})"
   ]
  },
  {
   "cell_type": "code",
   "execution_count": 45,
   "metadata": {},
   "outputs": [
    {
     "data": {
      "image/png": "[encoded data removed]",
      "text/plain": [
       "<Figure size 1296x1080 with 2 Axes>"
      ]
     },
     "metadata": {},
     "output_type": "display_data"
    }
   ],
   "source": [
    "%matplotlib notebook\n",
    "%matplotlib inline\n",
    "correlation(df)"
   ]
  },
  {
   "cell_type": "markdown",
   "metadata": {},
   "source": [
    "# ==================== Machine Learning ========================="
   ]
  },
  {
   "cell_type": "markdown",
   "metadata": {},
   "source": [
    "# Factor Analysis"
   ]
  },
  {
   "cell_type": "code",
   "execution_count": 46,
   "metadata": {},
   "outputs": [],
   "source": [
    "df_orgianl=pd.concat([df,pd.get_dummies(df['Purchase_Type'])],axis=1)"
   ]
  },
  {
   "cell_type": "code",
   "execution_count": 47,
   "metadata": {},
   "outputs": [],
   "source": [
    "df_orgianl.drop('Purchase_Type',axis=1,inplace=True)"
   ]
  },
  {
   "cell_type": "code",
   "execution_count": 48,
   "metadata": {},
   "outputs": [],
   "source": [
    "df_f = copy.deepcopy(df_orgianl)"
   ]
  },
  {
   "cell_type": "code",
   "execution_count": 49,
   "metadata": {},
   "outputs": [
    {
     "data": {
      "text/html": [
       "<div>\n",
       "<style scoped>\n",
       "    .dataframe tbody tr th:only-of-type {\n",
       "        vertical-align: middle;\n",
       "    }\n",
       "\n",
       "    .dataframe tbody tr th {\n",
       "        vertical-align: top;\n",
       "    }\n",
       "\n",
       "    .dataframe thead th {\n",
       "        text-align: right;\n",
       "    }\n",
       "</style>\n",
       "<table border=\"1\" class=\"dataframe\">\n",
       "  <thead>\n",
       "    <tr style=\"text-align: right;\">\n",
       "      <th></th>\n",
       "      <th>CUST_ID</th>\n",
       "      <th>BALANCE</th>\n",
       "      <th>BALANCE_FREQUENCY</th>\n",
       "      <th>PURCHASES</th>\n",
       "      <th>ONEOFF_PURCHASES</th>\n",
       "      <th>INSTALLMENTS_PURCHASES</th>\n",
       "      <th>CASH_ADVANCE</th>\n",
       "      <th>PURCHASES_FREQUENCY</th>\n",
       "      <th>ONEOFF_PURCHASES_FREQUENCY</th>\n",
       "      <th>PURCHASES_INSTALLMENTS_FREQUENCY</th>\n",
       "      <th>...</th>\n",
       "      <th>PRC_FULL_PAYMENT</th>\n",
       "      <th>TENURE</th>\n",
       "      <th>Monthly_Avg_Purchase</th>\n",
       "      <th>Monthly_Cash_Advance</th>\n",
       "      <th>Limit_Usage</th>\n",
       "      <th>Payment_Minpay</th>\n",
       "      <th>Both_OneOff_Installment</th>\n",
       "      <th>Istallment</th>\n",
       "      <th>None</th>\n",
       "      <th>OneOff</th>\n",
       "    </tr>\n",
       "  </thead>\n",
       "  <tbody>\n",
       "    <tr>\n",
       "      <th>0</th>\n",
       "      <td>C10001</td>\n",
       "      <td>40.900749</td>\n",
       "      <td>0.818182</td>\n",
       "      <td>95.40</td>\n",
       "      <td>0.00</td>\n",
       "      <td>95.4</td>\n",
       "      <td>0.000000</td>\n",
       "      <td>0.166667</td>\n",
       "      <td>0.000000</td>\n",
       "      <td>0.083333</td>\n",
       "      <td>...</td>\n",
       "      <td>0.000000</td>\n",
       "      <td>12.0</td>\n",
       "      <td>7.950000</td>\n",
       "      <td>0.000000</td>\n",
       "      <td>0.040901</td>\n",
       "      <td>1.446508</td>\n",
       "      <td>0</td>\n",
       "      <td>1</td>\n",
       "      <td>0</td>\n",
       "      <td>0</td>\n",
       "    </tr>\n",
       "    <tr>\n",
       "      <th>1</th>\n",
       "      <td>C10002</td>\n",
       "      <td>3202.467416</td>\n",
       "      <td>0.909091</td>\n",
       "      <td>0.00</td>\n",
       "      <td>0.00</td>\n",
       "      <td>0.0</td>\n",
       "      <td>6442.945483</td>\n",
       "      <td>0.000000</td>\n",
       "      <td>0.000000</td>\n",
       "      <td>0.000000</td>\n",
       "      <td>...</td>\n",
       "      <td>0.222222</td>\n",
       "      <td>12.0</td>\n",
       "      <td>0.000000</td>\n",
       "      <td>536.912124</td>\n",
       "      <td>0.457495</td>\n",
       "      <td>3.826241</td>\n",
       "      <td>0</td>\n",
       "      <td>0</td>\n",
       "      <td>1</td>\n",
       "      <td>0</td>\n",
       "    </tr>\n",
       "    <tr>\n",
       "      <th>2</th>\n",
       "      <td>C10003</td>\n",
       "      <td>2495.148862</td>\n",
       "      <td>1.000000</td>\n",
       "      <td>773.17</td>\n",
       "      <td>773.17</td>\n",
       "      <td>0.0</td>\n",
       "      <td>0.000000</td>\n",
       "      <td>1.000000</td>\n",
       "      <td>1.000000</td>\n",
       "      <td>0.000000</td>\n",
       "      <td>...</td>\n",
       "      <td>0.000000</td>\n",
       "      <td>12.0</td>\n",
       "      <td>64.430833</td>\n",
       "      <td>0.000000</td>\n",
       "      <td>0.332687</td>\n",
       "      <td>0.991682</td>\n",
       "      <td>0</td>\n",
       "      <td>0</td>\n",
       "      <td>0</td>\n",
       "      <td>1</td>\n",
       "    </tr>\n",
       "    <tr>\n",
       "      <th>3</th>\n",
       "      <td>C10004</td>\n",
       "      <td>1666.670542</td>\n",
       "      <td>0.636364</td>\n",
       "      <td>1499.00</td>\n",
       "      <td>1499.00</td>\n",
       "      <td>0.0</td>\n",
       "      <td>205.788017</td>\n",
       "      <td>0.083333</td>\n",
       "      <td>0.083333</td>\n",
       "      <td>0.000000</td>\n",
       "      <td>...</td>\n",
       "      <td>0.000000</td>\n",
       "      <td>12.0</td>\n",
       "      <td>124.916667</td>\n",
       "      <td>17.149001</td>\n",
       "      <td>0.222223</td>\n",
       "      <td>0.000000</td>\n",
       "      <td>0</td>\n",
       "      <td>0</td>\n",
       "      <td>0</td>\n",
       "      <td>1</td>\n",
       "    </tr>\n",
       "    <tr>\n",
       "      <th>4</th>\n",
       "      <td>C10005</td>\n",
       "      <td>817.714335</td>\n",
       "      <td>1.000000</td>\n",
       "      <td>16.00</td>\n",
       "      <td>16.00</td>\n",
       "      <td>0.0</td>\n",
       "      <td>0.000000</td>\n",
       "      <td>0.083333</td>\n",
       "      <td>0.083333</td>\n",
       "      <td>0.000000</td>\n",
       "      <td>...</td>\n",
       "      <td>0.000000</td>\n",
       "      <td>12.0</td>\n",
       "      <td>1.333333</td>\n",
       "      <td>0.000000</td>\n",
       "      <td>0.681429</td>\n",
       "      <td>2.771075</td>\n",
       "      <td>0</td>\n",
       "      <td>0</td>\n",
       "      <td>0</td>\n",
       "      <td>1</td>\n",
       "    </tr>\n",
       "  </tbody>\n",
       "</table>\n",
       "<p>5 rows × 26 columns</p>\n",
       "</div>"
      ],
      "text/plain": [
       "  CUST_ID      BALANCE  BALANCE_FREQUENCY  PURCHASES  ONEOFF_PURCHASES  \\\n",
       "0  C10001    40.900749           0.818182      95.40              0.00   \n",
       "1  C10002  3202.467416           0.909091       0.00              0.00   \n",
       "2  C10003  2495.148862           1.000000     773.17            773.17   \n",
       "3  C10004  1666.670542           0.636364    1499.00           1499.00   \n",
       "4  C10005   817.714335           1.000000      16.00             16.00   \n",
       "\n",
       "   INSTALLMENTS_PURCHASES  CASH_ADVANCE  PURCHASES_FREQUENCY  \\\n",
       "0                    95.4      0.000000             0.166667   \n",
       "1                     0.0   6442.945483             0.000000   \n",
       "2                     0.0      0.000000             1.000000   \n",
       "3                     0.0    205.788017             0.083333   \n",
       "4                     0.0      0.000000             0.083333   \n",
       "\n",
       "   ONEOFF_PURCHASES_FREQUENCY  PURCHASES_INSTALLMENTS_FREQUENCY  ...  \\\n",
       "0                    0.000000                          0.083333  ...   \n",
       "1                    0.000000                          0.000000  ...   \n",
       "2                    1.000000                          0.000000  ...   \n",
       "3                    0.083333                          0.000000  ...   \n",
       "4                    0.083333                          0.000000  ...   \n",
       "\n",
       "   PRC_FULL_PAYMENT  TENURE  Monthly_Avg_Purchase  Monthly_Cash_Advance  \\\n",
       "0          0.000000    12.0              7.950000              0.000000   \n",
       "1          0.222222    12.0              0.000000            536.912124   \n",
       "2          0.000000    12.0             64.430833              0.000000   \n",
       "3          0.000000    12.0            124.916667             17.149001   \n",
       "4          0.000000    12.0              1.333333              0.000000   \n",
       "\n",
       "   Limit_Usage  Payment_Minpay  Both_OneOff_Installment  Istallment  None  \\\n",
       "0     0.040901        1.446508                        0           1     0   \n",
       "1     0.457495        3.826241                        0           0     1   \n",
       "2     0.332687        0.991682                        0           0     0   \n",
       "3     0.222223        0.000000                        0           0     0   \n",
       "4     0.681429        2.771075                        0           0     0   \n",
       "\n",
       "   OneOff  \n",
       "0       0  \n",
       "1       0  \n",
       "2       1  \n",
       "3       1  \n",
       "4       1  \n",
       "\n",
       "[5 rows x 26 columns]"
      ]
     },
     "execution_count": 49,
     "metadata": {},
     "output_type": "execute_result"
    }
   ],
   "source": [
    "df_f.head()"
   ]
  },
  {
   "cell_type": "code",
   "execution_count": 50,
   "metadata": {},
   "outputs": [],
   "source": [
    "from sklearn.preprocessing import StandardScaler\n",
    "scaler = StandardScaler()\n",
    "df_f.iloc[0:,1:22]=scaler.fit_transform(df_f.iloc[0:,1:22].values)"
   ]
  },
  {
   "cell_type": "code",
   "execution_count": 51,
   "metadata": {},
   "outputs": [
    {
     "data": {
      "text/html": [
       "<div>\n",
       "<style scoped>\n",
       "    .dataframe tbody tr th:only-of-type {\n",
       "        vertical-align: middle;\n",
       "    }\n",
       "\n",
       "    .dataframe tbody tr th {\n",
       "        vertical-align: top;\n",
       "    }\n",
       "\n",
       "    .dataframe thead th {\n",
       "        text-align: right;\n",
       "    }\n",
       "</style>\n",
       "<table border=\"1\" class=\"dataframe\">\n",
       "  <thead>\n",
       "    <tr style=\"text-align: right;\">\n",
       "      <th></th>\n",
       "      <th>CUST_ID</th>\n",
       "      <th>BALANCE</th>\n",
       "      <th>BALANCE_FREQUENCY</th>\n",
       "      <th>PURCHASES</th>\n",
       "      <th>ONEOFF_PURCHASES</th>\n",
       "      <th>INSTALLMENTS_PURCHASES</th>\n",
       "      <th>CASH_ADVANCE</th>\n",
       "      <th>PURCHASES_FREQUENCY</th>\n",
       "      <th>ONEOFF_PURCHASES_FREQUENCY</th>\n",
       "      <th>PURCHASES_INSTALLMENTS_FREQUENCY</th>\n",
       "      <th>...</th>\n",
       "      <th>PRC_FULL_PAYMENT</th>\n",
       "      <th>TENURE</th>\n",
       "      <th>Monthly_Avg_Purchase</th>\n",
       "      <th>Monthly_Cash_Advance</th>\n",
       "      <th>Limit_Usage</th>\n",
       "      <th>Payment_Minpay</th>\n",
       "      <th>Both_OneOff_Installment</th>\n",
       "      <th>Istallment</th>\n",
       "      <th>None</th>\n",
       "      <th>OneOff</th>\n",
       "    </tr>\n",
       "  </thead>\n",
       "  <tbody>\n",
       "    <tr>\n",
       "      <th>0</th>\n",
       "      <td>C10001</td>\n",
       "      <td>-0.732054</td>\n",
       "      <td>-0.249881</td>\n",
       "      <td>-0.424934</td>\n",
       "      <td>-0.356957</td>\n",
       "      <td>-0.349114</td>\n",
       "      <td>-0.466805</td>\n",
       "      <td>-0.806649</td>\n",
       "      <td>-0.678716</td>\n",
       "      <td>-0.707409</td>\n",
       "      <td>...</td>\n",
       "      <td>-0.525588</td>\n",
       "      <td>0.360541</td>\n",
       "      <td>-0.433418</td>\n",
       "      <td>-0.460737</td>\n",
       "      <td>-0.893059</td>\n",
       "      <td>-0.064423</td>\n",
       "      <td>0</td>\n",
       "      <td>1</td>\n",
       "      <td>0</td>\n",
       "      <td>0</td>\n",
       "    </tr>\n",
       "    <tr>\n",
       "      <th>1</th>\n",
       "      <td>C10002</td>\n",
       "      <td>0.786858</td>\n",
       "      <td>0.134049</td>\n",
       "      <td>-0.469584</td>\n",
       "      <td>-0.356957</td>\n",
       "      <td>-0.454607</td>\n",
       "      <td>2.605438</td>\n",
       "      <td>-1.221928</td>\n",
       "      <td>-0.678716</td>\n",
       "      <td>-0.917090</td>\n",
       "      <td>...</td>\n",
       "      <td>0.234159</td>\n",
       "      <td>0.360541</td>\n",
       "      <td>-0.477461</td>\n",
       "      <td>2.319245</td>\n",
       "      <td>0.175953</td>\n",
       "      <td>-0.044287</td>\n",
       "      <td>0</td>\n",
       "      <td>0</td>\n",
       "      <td>1</td>\n",
       "      <td>0</td>\n",
       "    </tr>\n",
       "    <tr>\n",
       "      <th>2</th>\n",
       "      <td>C10003</td>\n",
       "      <td>0.447041</td>\n",
       "      <td>0.517980</td>\n",
       "      <td>-0.107716</td>\n",
       "      <td>0.108843</td>\n",
       "      <td>-0.454607</td>\n",
       "      <td>-0.466805</td>\n",
       "      <td>1.269742</td>\n",
       "      <td>2.673295</td>\n",
       "      <td>-0.917090</td>\n",
       "      <td>...</td>\n",
       "      <td>-0.525588</td>\n",
       "      <td>0.360541</td>\n",
       "      <td>-0.120516</td>\n",
       "      <td>-0.460737</td>\n",
       "      <td>-0.144316</td>\n",
       "      <td>-0.068272</td>\n",
       "      <td>0</td>\n",
       "      <td>0</td>\n",
       "      <td>0</td>\n",
       "      <td>1</td>\n",
       "    </tr>\n",
       "    <tr>\n",
       "      <th>3</th>\n",
       "      <td>C10004</td>\n",
       "      <td>0.049015</td>\n",
       "      <td>-1.017743</td>\n",
       "      <td>0.231995</td>\n",
       "      <td>0.546123</td>\n",
       "      <td>-0.454607</td>\n",
       "      <td>-0.368678</td>\n",
       "      <td>-1.014290</td>\n",
       "      <td>-0.399383</td>\n",
       "      <td>-0.917090</td>\n",
       "      <td>...</td>\n",
       "      <td>-0.525588</td>\n",
       "      <td>0.360541</td>\n",
       "      <td>0.214573</td>\n",
       "      <td>-0.371944</td>\n",
       "      <td>-0.427774</td>\n",
       "      <td>-0.076663</td>\n",
       "      <td>0</td>\n",
       "      <td>0</td>\n",
       "      <td>0</td>\n",
       "      <td>1</td>\n",
       "    </tr>\n",
       "    <tr>\n",
       "      <th>4</th>\n",
       "      <td>C10005</td>\n",
       "      <td>-0.358849</td>\n",
       "      <td>0.517980</td>\n",
       "      <td>-0.462095</td>\n",
       "      <td>-0.347317</td>\n",
       "      <td>-0.454607</td>\n",
       "      <td>-0.466805</td>\n",
       "      <td>-1.014290</td>\n",
       "      <td>-0.399383</td>\n",
       "      <td>-0.917090</td>\n",
       "      <td>...</td>\n",
       "      <td>-0.525588</td>\n",
       "      <td>0.360541</td>\n",
       "      <td>-0.470074</td>\n",
       "      <td>-0.460737</td>\n",
       "      <td>0.750582</td>\n",
       "      <td>-0.053215</td>\n",
       "      <td>0</td>\n",
       "      <td>0</td>\n",
       "      <td>0</td>\n",
       "      <td>1</td>\n",
       "    </tr>\n",
       "  </tbody>\n",
       "</table>\n",
       "<p>5 rows × 26 columns</p>\n",
       "</div>"
      ],
      "text/plain": [
       "  CUST_ID   BALANCE  BALANCE_FREQUENCY  PURCHASES  ONEOFF_PURCHASES  \\\n",
       "0  C10001 -0.732054          -0.249881  -0.424934         -0.356957   \n",
       "1  C10002  0.786858           0.134049  -0.469584         -0.356957   \n",
       "2  C10003  0.447041           0.517980  -0.107716          0.108843   \n",
       "3  C10004  0.049015          -1.017743   0.231995          0.546123   \n",
       "4  C10005 -0.358849           0.517980  -0.462095         -0.347317   \n",
       "\n",
       "   INSTALLMENTS_PURCHASES  CASH_ADVANCE  PURCHASES_FREQUENCY  \\\n",
       "0               -0.349114     -0.466805            -0.806649   \n",
       "1               -0.454607      2.605438            -1.221928   \n",
       "2               -0.454607     -0.466805             1.269742   \n",
       "3               -0.454607     -0.368678            -1.014290   \n",
       "4               -0.454607     -0.466805            -1.014290   \n",
       "\n",
       "   ONEOFF_PURCHASES_FREQUENCY  PURCHASES_INSTALLMENTS_FREQUENCY  ...  \\\n",
       "0                   -0.678716                         -0.707409  ...   \n",
       "1                   -0.678716                         -0.917090  ...   \n",
       "2                    2.673295                         -0.917090  ...   \n",
       "3                   -0.399383                         -0.917090  ...   \n",
       "4                   -0.399383                         -0.917090  ...   \n",
       "\n",
       "   PRC_FULL_PAYMENT    TENURE  Monthly_Avg_Purchase  Monthly_Cash_Advance  \\\n",
       "0         -0.525588  0.360541             -0.433418             -0.460737   \n",
       "1          0.234159  0.360541             -0.477461              2.319245   \n",
       "2         -0.525588  0.360541             -0.120516             -0.460737   \n",
       "3         -0.525588  0.360541              0.214573             -0.371944   \n",
       "4         -0.525588  0.360541             -0.470074             -0.460737   \n",
       "\n",
       "   Limit_Usage  Payment_Minpay  Both_OneOff_Installment  Istallment  None  \\\n",
       "0    -0.893059       -0.064423                        0           1     0   \n",
       "1     0.175953       -0.044287                        0           0     1   \n",
       "2    -0.144316       -0.068272                        0           0     0   \n",
       "3    -0.427774       -0.076663                        0           0     0   \n",
       "4     0.750582       -0.053215                        0           0     0   \n",
       "\n",
       "   OneOff  \n",
       "0       0  \n",
       "1       0  \n",
       "2       1  \n",
       "3       1  \n",
       "4       1  \n",
       "\n",
       "[5 rows x 26 columns]"
      ]
     },
     "execution_count": 51,
     "metadata": {},
     "output_type": "execute_result"
    }
   ],
   "source": [
    "df_f.head()"
   ]
  },
  {
   "cell_type": "code",
   "execution_count": 52,
   "metadata": {},
   "outputs": [
    {
     "data": {
      "text/plain": [
       "CUST_ID                             0\n",
       "BALANCE                             0\n",
       "BALANCE_FREQUENCY                   0\n",
       "PURCHASES                           0\n",
       "ONEOFF_PURCHASES                    0\n",
       "INSTALLMENTS_PURCHASES              0\n",
       "CASH_ADVANCE                        0\n",
       "PURCHASES_FREQUENCY                 0\n",
       "ONEOFF_PURCHASES_FREQUENCY          0\n",
       "PURCHASES_INSTALLMENTS_FREQUENCY    0\n",
       "CASH_ADVANCE_FREQUENCY              0\n",
       "CASH_ADVANCE_TRX                    0\n",
       "PURCHASES_TRX                       0\n",
       "CREDIT_LIMIT                        0\n",
       "PAYMENTS                            0\n",
       "MINIMUM_PAYMENTS                    0\n",
       "PRC_FULL_PAYMENT                    0\n",
       "TENURE                              0\n",
       "Monthly_Avg_Purchase                0\n",
       "Monthly_Cash_Advance                0\n",
       "Limit_Usage                         0\n",
       "Payment_Minpay                      0\n",
       "Both_OneOff_Installment             0\n",
       "Istallment                          0\n",
       "None                                0\n",
       "OneOff                              0\n",
       "dtype: int64"
      ]
     },
     "execution_count": 52,
     "metadata": {},
     "output_type": "execute_result"
    }
   ],
   "source": [
    "df_f.isna().sum()"
   ]
  },
  {
   "cell_type": "code",
   "execution_count": 53,
   "metadata": {},
   "outputs": [],
   "source": [
    "from sklearn.decomposition import FactorAnalysis\n",
    "from factor_analyzer import FactorAnalyzer"
   ]
  },
  {
   "cell_type": "code",
   "execution_count": 54,
   "metadata": {},
   "outputs": [
    {
     "data": {
      "text/plain": [
       "(579034.455362799, 0.0)"
      ]
     },
     "execution_count": 54,
     "metadata": {},
     "output_type": "execute_result"
    }
   ],
   "source": [
    "from factor_analyzer.factor_analyzer import calculate_bartlett_sphericity\n",
    "chi_square_value,p_value=calculate_bartlett_sphericity(df_f.iloc[0:,1:])\n",
    "chi_square_value, p_value"
   ]
  },
  {
   "cell_type": "markdown",
   "metadata": {},
   "source": [
    "### Bartlett ’s test, the p-value is 0. The test was statistically significant, indicating that the observed correlation matrix is not an identity matrix\n",
    "# Kaiser-Meyer-Olkin (KMO) Test"
   ]
  },
  {
   "cell_type": "code",
   "execution_count": 55,
   "metadata": {},
   "outputs": [],
   "source": [
    "from factor_analyzer.factor_analyzer import calculate_kmo\n",
    "kmo_all,kmo_model=calculate_kmo(df_f.iloc[0:,1:])"
   ]
  },
  {
   "cell_type": "code",
   "execution_count": 56,
   "metadata": {},
   "outputs": [
    {
     "data": {
      "text/plain": [
       "0.71361"
      ]
     },
     "execution_count": 56,
     "metadata": {},
     "output_type": "execute_result"
    }
   ],
   "source": [
    "round(kmo_model,5)"
   ]
  },
  {
   "cell_type": "markdown",
   "metadata": {},
   "source": [
    "### The overall KMO for our data is 0.71360, which is Good. This value indicates that I can proceed for factor analysis."
   ]
  },
  {
   "cell_type": "code",
   "execution_count": 57,
   "metadata": {},
   "outputs": [],
   "source": [
    "fa = FactorAnalyzer()\n",
    "fa.fit(df_f.iloc[0:,1:],10)\n",
    "eigen_values, vectors = fa.get_eigenvalues()"
   ]
  },
  {
   "cell_type": "code",
   "execution_count": 58,
   "metadata": {},
   "outputs": [],
   "source": [
    "eigen_val_df=pd.DataFrame(np.round(eigen_values,4),columns=['Eigen_Values']).sort_values(by='Eigen_Values',ascending=False)"
   ]
  },
  {
   "cell_type": "code",
   "execution_count": 59,
   "metadata": {},
   "outputs": [
    {
     "data": {
      "text/html": [
       "<div>\n",
       "<style scoped>\n",
       "    .dataframe tbody tr th:only-of-type {\n",
       "        vertical-align: middle;\n",
       "    }\n",
       "\n",
       "    .dataframe tbody tr th {\n",
       "        vertical-align: top;\n",
       "    }\n",
       "\n",
       "    .dataframe thead th {\n",
       "        text-align: right;\n",
       "    }\n",
       "</style>\n",
       "<table border=\"1\" class=\"dataframe\">\n",
       "  <thead>\n",
       "    <tr style=\"text-align: right;\">\n",
       "      <th></th>\n",
       "      <th>Eigen_Values</th>\n",
       "    </tr>\n",
       "  </thead>\n",
       "  <tbody>\n",
       "    <tr>\n",
       "      <th>0</th>\n",
       "      <td>6.0594</td>\n",
       "    </tr>\n",
       "    <tr>\n",
       "      <th>1</th>\n",
       "      <td>4.5983</td>\n",
       "    </tr>\n",
       "    <tr>\n",
       "      <th>2</th>\n",
       "      <td>2.1762</td>\n",
       "    </tr>\n",
       "    <tr>\n",
       "      <th>3</th>\n",
       "      <td>1.7981</td>\n",
       "    </tr>\n",
       "    <tr>\n",
       "      <th>4</th>\n",
       "      <td>1.4672</td>\n",
       "    </tr>\n",
       "    <tr>\n",
       "      <th>5</th>\n",
       "      <td>1.2632</td>\n",
       "    </tr>\n",
       "    <tr>\n",
       "      <th>6</th>\n",
       "      <td>1.0988</td>\n",
       "    </tr>\n",
       "    <tr>\n",
       "      <th>7</th>\n",
       "      <td>0.9923</td>\n",
       "    </tr>\n",
       "    <tr>\n",
       "      <th>8</th>\n",
       "      <td>0.8870</td>\n",
       "    </tr>\n",
       "    <tr>\n",
       "      <th>9</th>\n",
       "      <td>0.7693</td>\n",
       "    </tr>\n",
       "    <tr>\n",
       "      <th>10</th>\n",
       "      <td>0.7188</td>\n",
       "    </tr>\n",
       "    <tr>\n",
       "      <th>11</th>\n",
       "      <td>0.6086</td>\n",
       "    </tr>\n",
       "    <tr>\n",
       "      <th>12</th>\n",
       "      <td>0.5573</td>\n",
       "    </tr>\n",
       "    <tr>\n",
       "      <th>13</th>\n",
       "      <td>0.4284</td>\n",
       "    </tr>\n",
       "    <tr>\n",
       "      <th>14</th>\n",
       "      <td>0.4279</td>\n",
       "    </tr>\n",
       "    <tr>\n",
       "      <th>15</th>\n",
       "      <td>0.2815</td>\n",
       "    </tr>\n",
       "    <tr>\n",
       "      <th>16</th>\n",
       "      <td>0.2488</td>\n",
       "    </tr>\n",
       "    <tr>\n",
       "      <th>17</th>\n",
       "      <td>0.2129</td>\n",
       "    </tr>\n",
       "    <tr>\n",
       "      <th>18</th>\n",
       "      <td>0.1786</td>\n",
       "    </tr>\n",
       "    <tr>\n",
       "      <th>19</th>\n",
       "      <td>0.1705</td>\n",
       "    </tr>\n",
       "    <tr>\n",
       "      <th>20</th>\n",
       "      <td>0.0363</td>\n",
       "    </tr>\n",
       "    <tr>\n",
       "      <th>21</th>\n",
       "      <td>0.0162</td>\n",
       "    </tr>\n",
       "    <tr>\n",
       "      <th>22</th>\n",
       "      <td>0.0044</td>\n",
       "    </tr>\n",
       "    <tr>\n",
       "      <th>23</th>\n",
       "      <td>0.0000</td>\n",
       "    </tr>\n",
       "    <tr>\n",
       "      <th>24</th>\n",
       "      <td>0.0000</td>\n",
       "    </tr>\n",
       "  </tbody>\n",
       "</table>\n",
       "</div>"
      ],
      "text/plain": [
       "    Eigen_Values\n",
       "0         6.0594\n",
       "1         4.5983\n",
       "2         2.1762\n",
       "3         1.7981\n",
       "4         1.4672\n",
       "5         1.2632\n",
       "6         1.0988\n",
       "7         0.9923\n",
       "8         0.8870\n",
       "9         0.7693\n",
       "10        0.7188\n",
       "11        0.6086\n",
       "12        0.5573\n",
       "13        0.4284\n",
       "14        0.4279\n",
       "15        0.2815\n",
       "16        0.2488\n",
       "17        0.2129\n",
       "18        0.1786\n",
       "19        0.1705\n",
       "20        0.0363\n",
       "21        0.0162\n",
       "22        0.0044\n",
       "23        0.0000\n",
       "24        0.0000"
      ]
     },
     "execution_count": 59,
     "metadata": {},
     "output_type": "execute_result"
    }
   ],
   "source": [
    "eigen_val_df"
   ]
  },
  {
   "cell_type": "markdown",
   "metadata": {},
   "source": [
    "## Here,We can see only for 6-factors eigenvalues are greater than one. It means we need to choose only 6 factors"
   ]
  },
  {
   "cell_type": "code",
   "execution_count": 60,
   "metadata": {},
   "outputs": [
    {
     "data": {
      "image/png": "[encoded data removed]",
      "text/plain": [
       "<Figure size 432x288 with 1 Axes>"
      ]
     },
     "metadata": {},
     "output_type": "display_data"
    }
   ],
   "source": [
    "# Create scree plot using matplotlib\n",
    "plt.scatter(range(1,df_f.iloc[0:,1:].shape[1]+1),eigen_values)\n",
    "plt.plot(range(1,df_f.iloc[0:,1:].shape[1]+1),eigen_values)\n",
    "plt.title('Scree Plot')\n",
    "plt.xlabel('Factors')\n",
    "plt.ylabel('Eigenvalue')\n",
    "plt.grid()\n",
    "plt.show()"
   ]
  },
  {
   "cell_type": "code",
   "execution_count": 61,
   "metadata": {},
   "outputs": [],
   "source": [
    "fact_df = copy.deepcopy(df_f.iloc[0:,1:])"
   ]
  },
  {
   "cell_type": "code",
   "execution_count": 62,
   "metadata": {},
   "outputs": [
    {
     "data": {
      "text/plain": [
       "BALANCE                             float64\n",
       "BALANCE_FREQUENCY                   float64\n",
       "PURCHASES                           float64\n",
       "ONEOFF_PURCHASES                    float64\n",
       "INSTALLMENTS_PURCHASES              float64\n",
       "CASH_ADVANCE                        float64\n",
       "PURCHASES_FREQUENCY                 float64\n",
       "ONEOFF_PURCHASES_FREQUENCY          float64\n",
       "PURCHASES_INSTALLMENTS_FREQUENCY    float64\n",
       "CASH_ADVANCE_FREQUENCY              float64\n",
       "CASH_ADVANCE_TRX                    float64\n",
       "PURCHASES_TRX                       float64\n",
       "CREDIT_LIMIT                        float64\n",
       "PAYMENTS                            float64\n",
       "MINIMUM_PAYMENTS                    float64\n",
       "PRC_FULL_PAYMENT                    float64\n",
       "TENURE                              float64\n",
       "Monthly_Avg_Purchase                float64\n",
       "Monthly_Cash_Advance                float64\n",
       "Limit_Usage                         float64\n",
       "Payment_Minpay                      float64\n",
       "Both_OneOff_Installment               uint8\n",
       "Istallment                            uint8\n",
       "None                                  uint8\n",
       "OneOff                                uint8\n",
       "dtype: object"
      ]
     },
     "execution_count": 62,
     "metadata": {},
     "output_type": "execute_result"
    }
   ],
   "source": [
    "fact_df.dtypes"
   ]
  },
  {
   "cell_type": "markdown",
   "metadata": {},
   "source": [
    "## Factor Analysis"
   ]
  },
  {
   "cell_type": "code",
   "execution_count": 63,
   "metadata": {},
   "outputs": [],
   "source": [
    "transformer = FactorAnalysis(n_components=6, random_state=0,rotation ='varimax')"
   ]
  },
  {
   "cell_type": "code",
   "execution_count": 64,
   "metadata": {},
   "outputs": [
    {
     "data": {
      "text/plain": [
       "FactorAnalysis(n_components=6, rotation='varimax')"
      ]
     },
     "execution_count": 64,
     "metadata": {},
     "output_type": "execute_result"
    }
   ],
   "source": [
    "transformer.fit(fact_df)"
   ]
  },
  {
   "cell_type": "code",
   "execution_count": 65,
   "metadata": {},
   "outputs": [],
   "source": [
    "component_df=pd.DataFrame(transformer.components_)"
   ]
  },
  {
   "cell_type": "code",
   "execution_count": 66,
   "metadata": {},
   "outputs": [],
   "source": [
    "indx =[i for i in range(len(fact_df.columns))]"
   ]
  },
  {
   "cell_type": "code",
   "execution_count": 67,
   "metadata": {},
   "outputs": [],
   "source": [
    "name = [col for col in fact_df.columns]"
   ]
  },
  {
   "cell_type": "code",
   "execution_count": 68,
   "metadata": {},
   "outputs": [],
   "source": [
    "for indx, col in zip(indx,name):\n",
    "    component_df.rename(columns={indx:col},inplace=True)"
   ]
  },
  {
   "cell_type": "code",
   "execution_count": 69,
   "metadata": {},
   "outputs": [
    {
     "data": {
      "text/html": [
       "<div>\n",
       "<style scoped>\n",
       "    .dataframe tbody tr th:only-of-type {\n",
       "        vertical-align: middle;\n",
       "    }\n",
       "\n",
       "    .dataframe tbody tr th {\n",
       "        vertical-align: top;\n",
       "    }\n",
       "\n",
       "    .dataframe thead th {\n",
       "        text-align: right;\n",
       "    }\n",
       "</style>\n",
       "<table border=\"1\" class=\"dataframe\">\n",
       "  <thead>\n",
       "    <tr style=\"text-align: right;\">\n",
       "      <th></th>\n",
       "      <th>0</th>\n",
       "      <th>1</th>\n",
       "      <th>2</th>\n",
       "      <th>3</th>\n",
       "      <th>4</th>\n",
       "      <th>5</th>\n",
       "    </tr>\n",
       "  </thead>\n",
       "  <tbody>\n",
       "    <tr>\n",
       "      <th>BALANCE</th>\n",
       "      <td>0.193445</td>\n",
       "      <td>0.471103</td>\n",
       "      <td>-0.032093</td>\n",
       "      <td>-0.022468</td>\n",
       "      <td>-0.017539</td>\n",
       "      <td>0.570522</td>\n",
       "    </tr>\n",
       "    <tr>\n",
       "      <th>BALANCE_FREQUENCY</th>\n",
       "      <td>0.084678</td>\n",
       "      <td>0.093604</td>\n",
       "      <td>0.220273</td>\n",
       "      <td>-0.176391</td>\n",
       "      <td>-0.011531</td>\n",
       "      <td>0.519092</td>\n",
       "    </tr>\n",
       "    <tr>\n",
       "      <th>PURCHASES</th>\n",
       "      <td>0.984368</td>\n",
       "      <td>-0.026427</td>\n",
       "      <td>0.159049</td>\n",
       "      <td>-0.063550</td>\n",
       "      <td>-0.011778</td>\n",
       "      <td>0.011837</td>\n",
       "    </tr>\n",
       "    <tr>\n",
       "      <th>ONEOFF_PURCHASES</th>\n",
       "      <td>0.921996</td>\n",
       "      <td>-0.017488</td>\n",
       "      <td>-0.015184</td>\n",
       "      <td>-0.183987</td>\n",
       "      <td>0.064537</td>\n",
       "      <td>-0.010945</td>\n",
       "    </tr>\n",
       "    <tr>\n",
       "      <th>INSTALLMENTS_PURCHASES</th>\n",
       "      <td>0.633485</td>\n",
       "      <td>-0.030452</td>\n",
       "      <td>0.403850</td>\n",
       "      <td>0.187877</td>\n",
       "      <td>-0.146146</td>\n",
       "      <td>0.047978</td>\n",
       "    </tr>\n",
       "    <tr>\n",
       "      <th>CASH_ADVANCE</th>\n",
       "      <td>-0.012651</td>\n",
       "      <td>0.991158</td>\n",
       "      <td>-0.077085</td>\n",
       "      <td>0.018854</td>\n",
       "      <td>0.006671</td>\n",
       "      <td>0.051671</td>\n",
       "    </tr>\n",
       "    <tr>\n",
       "      <th>PURCHASES_FREQUENCY</th>\n",
       "      <td>0.232486</td>\n",
       "      <td>-0.136314</td>\n",
       "      <td>0.902636</td>\n",
       "      <td>-0.297182</td>\n",
       "      <td>0.103523</td>\n",
       "      <td>-0.057953</td>\n",
       "    </tr>\n",
       "    <tr>\n",
       "      <th>ONEOFF_PURCHASES_FREQUENCY</th>\n",
       "      <td>0.425049</td>\n",
       "      <td>-0.053152</td>\n",
       "      <td>0.177581</td>\n",
       "      <td>-0.789064</td>\n",
       "      <td>-0.012508</td>\n",
       "      <td>-0.001351</td>\n",
       "    </tr>\n",
       "    <tr>\n",
       "      <th>PURCHASES_INSTALLMENTS_FREQUENCY</th>\n",
       "      <td>0.172461</td>\n",
       "      <td>-0.103464</td>\n",
       "      <td>0.941792</td>\n",
       "      <td>0.116798</td>\n",
       "      <td>-0.084969</td>\n",
       "      <td>-0.027982</td>\n",
       "    </tr>\n",
       "    <tr>\n",
       "      <th>CASH_ADVANCE_FREQUENCY</th>\n",
       "      <td>-0.077395</td>\n",
       "      <td>0.604707</td>\n",
       "      <td>-0.196942</td>\n",
       "      <td>0.018525</td>\n",
       "      <td>-0.061447</td>\n",
       "      <td>0.336956</td>\n",
       "    </tr>\n",
       "    <tr>\n",
       "      <th>CASH_ADVANCE_TRX</th>\n",
       "      <td>-0.038094</td>\n",
       "      <td>0.642384</td>\n",
       "      <td>-0.099234</td>\n",
       "      <td>0.003264</td>\n",
       "      <td>-0.039065</td>\n",
       "      <td>0.228622</td>\n",
       "    </tr>\n",
       "    <tr>\n",
       "      <th>PURCHASES_TRX</th>\n",
       "      <td>0.615171</td>\n",
       "      <td>-0.035524</td>\n",
       "      <td>0.436795</td>\n",
       "      <td>-0.166310</td>\n",
       "      <td>-0.133468</td>\n",
       "      <td>0.082032</td>\n",
       "    </tr>\n",
       "    <tr>\n",
       "      <th>CREDIT_LIMIT</th>\n",
       "      <td>0.351348</td>\n",
       "      <td>0.316515</td>\n",
       "      <td>0.049705</td>\n",
       "      <td>-0.160278</td>\n",
       "      <td>-0.069499</td>\n",
       "      <td>0.027799</td>\n",
       "    </tr>\n",
       "    <tr>\n",
       "      <th>PAYMENTS</th>\n",
       "      <td>0.621337</td>\n",
       "      <td>0.463881</td>\n",
       "      <td>0.024035</td>\n",
       "      <td>0.002003</td>\n",
       "      <td>-0.009521</td>\n",
       "      <td>-0.040695</td>\n",
       "    </tr>\n",
       "    <tr>\n",
       "      <th>MINIMUM_PAYMENTS</th>\n",
       "      <td>0.094507</td>\n",
       "      <td>0.123968</td>\n",
       "      <td>0.045099</td>\n",
       "      <td>0.078938</td>\n",
       "      <td>0.056057</td>\n",
       "      <td>0.381417</td>\n",
       "    </tr>\n",
       "    <tr>\n",
       "      <th>PRC_FULL_PAYMENT</th>\n",
       "      <td>0.146297</td>\n",
       "      <td>-0.111587</td>\n",
       "      <td>0.234454</td>\n",
       "      <td>-0.033577</td>\n",
       "      <td>0.081207</td>\n",
       "      <td>-0.429860</td>\n",
       "    </tr>\n",
       "    <tr>\n",
       "      <th>TENURE</th>\n",
       "      <td>0.070466</td>\n",
       "      <td>-0.087827</td>\n",
       "      <td>0.048177</td>\n",
       "      <td>-0.022149</td>\n",
       "      <td>-0.079015</td>\n",
       "      <td>0.099891</td>\n",
       "    </tr>\n",
       "    <tr>\n",
       "      <th>Monthly_Avg_Purchase</th>\n",
       "      <td>0.980539</td>\n",
       "      <td>-0.021091</td>\n",
       "      <td>0.160417</td>\n",
       "      <td>-0.069095</td>\n",
       "      <td>-0.005239</td>\n",
       "      <td>0.007638</td>\n",
       "    </tr>\n",
       "    <tr>\n",
       "      <th>Monthly_Cash_Advance</th>\n",
       "      <td>-0.015927</td>\n",
       "      <td>0.975886</td>\n",
       "      <td>-0.080354</td>\n",
       "      <td>0.018976</td>\n",
       "      <td>0.011312</td>\n",
       "      <td>0.039704</td>\n",
       "    </tr>\n",
       "    <tr>\n",
       "      <th>Limit_Usage</th>\n",
       "      <td>-0.039396</td>\n",
       "      <td>0.166762</td>\n",
       "      <td>-0.126258</td>\n",
       "      <td>0.044624</td>\n",
       "      <td>0.006393</td>\n",
       "      <td>0.756091</td>\n",
       "    </tr>\n",
       "    <tr>\n",
       "      <th>Payment_Minpay</th>\n",
       "      <td>0.017790</td>\n",
       "      <td>0.001376</td>\n",
       "      <td>0.010332</td>\n",
       "      <td>0.023614</td>\n",
       "      <td>-0.002556</td>\n",
       "      <td>-0.079874</td>\n",
       "    </tr>\n",
       "    <tr>\n",
       "      <th>Both_OneOff_Installment</th>\n",
       "      <td>0.138217</td>\n",
       "      <td>-0.009808</td>\n",
       "      <td>0.199151</td>\n",
       "      <td>-0.188611</td>\n",
       "      <td>-0.289710</td>\n",
       "      <td>0.010620</td>\n",
       "    </tr>\n",
       "    <tr>\n",
       "      <th>Istallment</th>\n",
       "      <td>-0.071278</td>\n",
       "      <td>-0.055440</td>\n",
       "      <td>0.197668</td>\n",
       "      <td>0.227371</td>\n",
       "      <td>0.216259</td>\n",
       "      <td>-0.075159</td>\n",
       "    </tr>\n",
       "    <tr>\n",
       "      <th>None</th>\n",
       "      <td>-0.064565</td>\n",
       "      <td>0.087359</td>\n",
       "      <td>-0.222484</td>\n",
       "      <td>0.125084</td>\n",
       "      <td>-0.093965</td>\n",
       "      <td>0.082309</td>\n",
       "    </tr>\n",
       "    <tr>\n",
       "      <th>OneOff</th>\n",
       "      <td>-0.002374</td>\n",
       "      <td>-0.022111</td>\n",
       "      <td>-0.174335</td>\n",
       "      <td>-0.163844</td>\n",
       "      <td>0.167416</td>\n",
       "      <td>-0.017770</td>\n",
       "    </tr>\n",
       "  </tbody>\n",
       "</table>\n",
       "</div>"
      ],
      "text/plain": [
       "                                         0         1         2         3  \\\n",
       "BALANCE                           0.193445  0.471103 -0.032093 -0.022468   \n",
       "BALANCE_FREQUENCY                 0.084678  0.093604  0.220273 -0.176391   \n",
       "PURCHASES                         0.984368 -0.026427  0.159049 -0.063550   \n",
       "ONEOFF_PURCHASES                  0.921996 -0.017488 -0.015184 -0.183987   \n",
       "INSTALLMENTS_PURCHASES            0.633485 -0.030452  0.403850  0.187877   \n",
       "CASH_ADVANCE                     -0.012651  0.991158 -0.077085  0.018854   \n",
       "PURCHASES_FREQUENCY               0.232486 -0.136314  0.902636 -0.297182   \n",
       "ONEOFF_PURCHASES_FREQUENCY        0.425049 -0.053152  0.177581 -0.789064   \n",
       "PURCHASES_INSTALLMENTS_FREQUENCY  0.172461 -0.103464  0.941792  0.116798   \n",
       "CASH_ADVANCE_FREQUENCY           -0.077395  0.604707 -0.196942  0.018525   \n",
       "CASH_ADVANCE_TRX                 -0.038094  0.642384 -0.099234  0.003264   \n",
       "PURCHASES_TRX                     0.615171 -0.035524  0.436795 -0.166310   \n",
       "CREDIT_LIMIT                      0.351348  0.316515  0.049705 -0.160278   \n",
       "PAYMENTS                          0.621337  0.463881  0.024035  0.002003   \n",
       "MINIMUM_PAYMENTS                  0.094507  0.123968  0.045099  0.078938   \n",
       "PRC_FULL_PAYMENT                  0.146297 -0.111587  0.234454 -0.033577   \n",
       "TENURE                            0.070466 -0.087827  0.048177 -0.022149   \n",
       "Monthly_Avg_Purchase              0.980539 -0.021091  0.160417 -0.069095   \n",
       "Monthly_Cash_Advance             -0.015927  0.975886 -0.080354  0.018976   \n",
       "Limit_Usage                      -0.039396  0.166762 -0.126258  0.044624   \n",
       "Payment_Minpay                    0.017790  0.001376  0.010332  0.023614   \n",
       "Both_OneOff_Installment           0.138217 -0.009808  0.199151 -0.188611   \n",
       "Istallment                       -0.071278 -0.055440  0.197668  0.227371   \n",
       "None                             -0.064565  0.087359 -0.222484  0.125084   \n",
       "OneOff                           -0.002374 -0.022111 -0.174335 -0.163844   \n",
       "\n",
       "                                         4         5  \n",
       "BALANCE                          -0.017539  0.570522  \n",
       "BALANCE_FREQUENCY                -0.011531  0.519092  \n",
       "PURCHASES                        -0.011778  0.011837  \n",
       "ONEOFF_PURCHASES                  0.064537 -0.010945  \n",
       "INSTALLMENTS_PURCHASES           -0.146146  0.047978  \n",
       "CASH_ADVANCE                      0.006671  0.051671  \n",
       "PURCHASES_FREQUENCY               0.103523 -0.057953  \n",
       "ONEOFF_PURCHASES_FREQUENCY       -0.012508 -0.001351  \n",
       "PURCHASES_INSTALLMENTS_FREQUENCY -0.084969 -0.027982  \n",
       "CASH_ADVANCE_FREQUENCY           -0.061447  0.336956  \n",
       "CASH_ADVANCE_TRX                 -0.039065  0.228622  \n",
       "PURCHASES_TRX                    -0.133468  0.082032  \n",
       "CREDIT_LIMIT                     -0.069499  0.027799  \n",
       "PAYMENTS                         -0.009521 -0.040695  \n",
       "MINIMUM_PAYMENTS                  0.056057  0.381417  \n",
       "PRC_FULL_PAYMENT                  0.081207 -0.429860  \n",
       "TENURE                           -0.079015  0.099891  \n",
       "Monthly_Avg_Purchase             -0.005239  0.007638  \n",
       "Monthly_Cash_Advance              0.011312  0.039704  \n",
       "Limit_Usage                       0.006393  0.756091  \n",
       "Payment_Minpay                   -0.002556 -0.079874  \n",
       "Both_OneOff_Installment          -0.289710  0.010620  \n",
       "Istallment                        0.216259 -0.075159  \n",
       "None                             -0.093965  0.082309  \n",
       "OneOff                            0.167416 -0.017770  "
      ]
     },
     "execution_count": 69,
     "metadata": {},
     "output_type": "execute_result"
    }
   ],
   "source": [
    "%matplotlib inline\n",
    "#from pandas.table.plotting import table\n",
    "\n",
    "component_df.T\n"
   ]
  },
  {
   "cell_type": "code",
   "execution_count": 70,
   "metadata": {},
   "outputs": [
    {
     "data": {
      "text/plain": [
       "(6, 25)"
      ]
     },
     "execution_count": 70,
     "metadata": {},
     "output_type": "execute_result"
    }
   ],
   "source": [
    "component_df.shape"
   ]
  },
  {
   "cell_type": "code",
   "execution_count": 71,
   "metadata": {},
   "outputs": [
    {
     "data": {
      "image/png": "[encoded data removed]",
      "text/plain": [
       "<Figure size 432x288 with 1 Axes>"
      ]
     },
     "metadata": {
      "needs_background": "light"
     },
     "output_type": "display_data"
    }
   ],
   "source": [
    "component_df.loc[3].plot(kind=\"bar\")\n",
    "plt.title('Factor Component:4')\n",
    "plt.show()"
   ]
  },
  {
   "cell_type": "code",
   "execution_count": 72,
   "metadata": {},
   "outputs": [
    {
     "data": {
      "image/png": "[encoded data removed]",
      "text/plain": [
       "<Figure size 1800x1656 with 6 Axes>"
      ]
     },
     "metadata": {
      "needs_background": "light"
     },
     "output_type": "display_data"
    }
   ],
   "source": [
    "%matplotlib inline\n",
    "\n",
    "fig = plt.figure(figsize=(25,23))\n",
    "for i in range(1, component_df.shape[0] + 1):\n",
    "    plt.subplot(3,5, i)\n",
    "    f = plt.gca()\n",
    "    f.axes.get_yaxis().set_visible(False)\n",
    "    f.set_title([i - 1])\n",
    "    component_df.loc[i-1].plot(kind=\"bar\")\n",
    "    plt.grid(True)\n",
    "plt.tight_layout(h_pad=0.8, w_pad=0.5 ,rect=[0, 0.03, 1.5, 0.95])\n",
    "plt.show()"
   ]
  },
  {
   "cell_type": "code",
   "execution_count": 73,
   "metadata": {},
   "outputs": [
    {
     "data": {
      "text/plain": [
       "PURCHASES_INSTALLMENTS_FREQUENCY    0.941792\n",
       "PURCHASES_FREQUENCY                 0.902636\n",
       "PURCHASES_TRX                       0.436795\n",
       "INSTALLMENTS_PURCHASES              0.403850\n",
       "PRC_FULL_PAYMENT                    0.234454\n",
       "BALANCE_FREQUENCY                   0.220273\n",
       "Both_OneOff_Installment             0.199151\n",
       "Istallment                          0.197668\n",
       "ONEOFF_PURCHASES_FREQUENCY          0.177581\n",
       "Monthly_Avg_Purchase                0.160417\n",
       "PURCHASES                           0.159049\n",
       "CREDIT_LIMIT                        0.049705\n",
       "TENURE                              0.048177\n",
       "MINIMUM_PAYMENTS                    0.045099\n",
       "PAYMENTS                            0.024035\n",
       "Payment_Minpay                      0.010332\n",
       "ONEOFF_PURCHASES                   -0.015184\n",
       "BALANCE                            -0.032093\n",
       "CASH_ADVANCE                       -0.077085\n",
       "Monthly_Cash_Advance               -0.080354\n",
       "CASH_ADVANCE_TRX                   -0.099234\n",
       "Limit_Usage                        -0.126258\n",
       "OneOff                             -0.174335\n",
       "CASH_ADVANCE_FREQUENCY             -0.196942\n",
       "None                               -0.222484\n",
       "Name: 2, dtype: float64"
      ]
     },
     "execution_count": 73,
     "metadata": {},
     "output_type": "execute_result"
    }
   ],
   "source": [
    "component_df.loc[2].sort_values(ascending=False)"
   ]
  },
  {
   "cell_type": "markdown",
   "metadata": {},
   "source": [
    "# Factor Result Analysis\n",
    "* Factor 1 has high factor loadings for PURCHASES, Monthly_Avg_Purchase,ONEOFF_PURCHASES,INSTALLMENTS_PURCHASES ,PAYMENTS, PURCHASES_TRX,ONEOFF_PURCHASES_FREQUENCY\n",
    "\n",
    "* Factor 2 has high factor loadings for CASH_ADVANCE, Monthly_Cash_Advance,CASH_ADVANCE_TRX,CASH_ADVANCE_FREQUENCY  \n",
    "\n",
    "* Factor 3 has high factor loadings for PURCHASES_INSTALLMENTS_FREQUENCY, PURCHASES_FREQUENCY,PURCHASES_TRX, INSTALLMENTS_PURCHASES,\n",
    "\n",
    "* Factor 4 has high factor loadings for ONEOFF_PURCHASES_FREQUENCY, PURCHASES_FREQUENCY\n",
    "\n",
    "* Factor 5 has low factor loadings for Istallment,Both_OneOff_Installment so we can skip this\n",
    "\n",
    "* Factor 6 has high factor loadings for Limit_Usage, BALANCE, BALANCE_FREQUENCY, PRC_FULL_PAYMENT"
   ]
  },
  {
   "cell_type": "markdown",
   "metadata": {},
   "source": [
    "## Selected feature from 2nd factor based on the variance\n",
    "\n",
    "* PURCHASES_INSTALLMENTS_FREQUENCY    \n",
    "* PURCHASES_FREQUENCY                 \n",
    "* PURCHASES_TRX                      \n",
    "* INSTALLMENTS_PURCHASES              \n",
    "* PRC_FULL_PAYMENT                  \n",
    "* BALANCE_FREQUENCY                 \n",
    "* Both_OneOff_Installment             \n",
    "* CASH_ADVANCE_FREQUENCY             \n",
    "* None \n",
    "* Limit_Usage                 \n",
    "* OneOff"
   ]
  },
  {
   "cell_type": "code",
   "execution_count": 74,
   "metadata": {},
   "outputs": [],
   "source": [
    "name_list = ['PURCHASES_INSTALLMENTS_FREQUENCY','PURCHASES_FREQUENCY','PURCHASES_TRX','INSTALLMENTS_PURCHASES','PRC_FULL_PAYMENT',\n",
    "             'BALANCE_FREQUENCY','Both_OneOff_Installment','CASH_ADVANCE_FREQUENCY','None','Limit_Usage','OneOff']"
   ]
  },
  {
   "cell_type": "code",
   "execution_count": 75,
   "metadata": {},
   "outputs": [],
   "source": [
    "cluster_df = df_orgianl[name_list]"
   ]
  },
  {
   "cell_type": "code",
   "execution_count": 76,
   "metadata": {},
   "outputs": [
    {
     "data": {
      "text/html": [
       "<div>\n",
       "<style scoped>\n",
       "    .dataframe tbody tr th:only-of-type {\n",
       "        vertical-align: middle;\n",
       "    }\n",
       "\n",
       "    .dataframe tbody tr th {\n",
       "        vertical-align: top;\n",
       "    }\n",
       "\n",
       "    .dataframe thead th {\n",
       "        text-align: right;\n",
       "    }\n",
       "</style>\n",
       "<table border=\"1\" class=\"dataframe\">\n",
       "  <thead>\n",
       "    <tr style=\"text-align: right;\">\n",
       "      <th></th>\n",
       "      <th>PURCHASES_INSTALLMENTS_FREQUENCY</th>\n",
       "      <th>PURCHASES_FREQUENCY</th>\n",
       "      <th>PURCHASES_TRX</th>\n",
       "      <th>INSTALLMENTS_PURCHASES</th>\n",
       "      <th>PRC_FULL_PAYMENT</th>\n",
       "      <th>BALANCE_FREQUENCY</th>\n",
       "      <th>Both_OneOff_Installment</th>\n",
       "      <th>CASH_ADVANCE_FREQUENCY</th>\n",
       "      <th>None</th>\n",
       "      <th>Limit_Usage</th>\n",
       "      <th>OneOff</th>\n",
       "    </tr>\n",
       "  </thead>\n",
       "  <tbody>\n",
       "    <tr>\n",
       "      <th>0</th>\n",
       "      <td>0.083333</td>\n",
       "      <td>0.166667</td>\n",
       "      <td>2.0</td>\n",
       "      <td>95.4</td>\n",
       "      <td>0.000000</td>\n",
       "      <td>0.818182</td>\n",
       "      <td>0</td>\n",
       "      <td>0.000000</td>\n",
       "      <td>0</td>\n",
       "      <td>0.040901</td>\n",
       "      <td>0</td>\n",
       "    </tr>\n",
       "    <tr>\n",
       "      <th>1</th>\n",
       "      <td>0.000000</td>\n",
       "      <td>0.000000</td>\n",
       "      <td>0.0</td>\n",
       "      <td>0.0</td>\n",
       "      <td>0.222222</td>\n",
       "      <td>0.909091</td>\n",
       "      <td>0</td>\n",
       "      <td>0.250000</td>\n",
       "      <td>1</td>\n",
       "      <td>0.457495</td>\n",
       "      <td>0</td>\n",
       "    </tr>\n",
       "    <tr>\n",
       "      <th>2</th>\n",
       "      <td>0.000000</td>\n",
       "      <td>1.000000</td>\n",
       "      <td>12.0</td>\n",
       "      <td>0.0</td>\n",
       "      <td>0.000000</td>\n",
       "      <td>1.000000</td>\n",
       "      <td>0</td>\n",
       "      <td>0.000000</td>\n",
       "      <td>0</td>\n",
       "      <td>0.332687</td>\n",
       "      <td>1</td>\n",
       "    </tr>\n",
       "    <tr>\n",
       "      <th>3</th>\n",
       "      <td>0.000000</td>\n",
       "      <td>0.083333</td>\n",
       "      <td>1.0</td>\n",
       "      <td>0.0</td>\n",
       "      <td>0.000000</td>\n",
       "      <td>0.636364</td>\n",
       "      <td>0</td>\n",
       "      <td>0.083333</td>\n",
       "      <td>0</td>\n",
       "      <td>0.222223</td>\n",
       "      <td>1</td>\n",
       "    </tr>\n",
       "    <tr>\n",
       "      <th>4</th>\n",
       "      <td>0.000000</td>\n",
       "      <td>0.083333</td>\n",
       "      <td>1.0</td>\n",
       "      <td>0.0</td>\n",
       "      <td>0.000000</td>\n",
       "      <td>1.000000</td>\n",
       "      <td>0</td>\n",
       "      <td>0.000000</td>\n",
       "      <td>0</td>\n",
       "      <td>0.681429</td>\n",
       "      <td>1</td>\n",
       "    </tr>\n",
       "  </tbody>\n",
       "</table>\n",
       "</div>"
      ],
      "text/plain": [
       "   PURCHASES_INSTALLMENTS_FREQUENCY  PURCHASES_FREQUENCY  PURCHASES_TRX  \\\n",
       "0                          0.083333             0.166667            2.0   \n",
       "1                          0.000000             0.000000            0.0   \n",
       "2                          0.000000             1.000000           12.0   \n",
       "3                          0.000000             0.083333            1.0   \n",
       "4                          0.000000             0.083333            1.0   \n",
       "\n",
       "   INSTALLMENTS_PURCHASES  PRC_FULL_PAYMENT  BALANCE_FREQUENCY  \\\n",
       "0                    95.4          0.000000           0.818182   \n",
       "1                     0.0          0.222222           0.909091   \n",
       "2                     0.0          0.000000           1.000000   \n",
       "3                     0.0          0.000000           0.636364   \n",
       "4                     0.0          0.000000           1.000000   \n",
       "\n",
       "   Both_OneOff_Installment  CASH_ADVANCE_FREQUENCY  None  Limit_Usage  OneOff  \n",
       "0                        0                0.000000     0     0.040901       0  \n",
       "1                        0                0.250000     1     0.457495       0  \n",
       "2                        0                0.000000     0     0.332687       1  \n",
       "3                        0                0.083333     0     0.222223       1  \n",
       "4                        0                0.000000     0     0.681429       1  "
      ]
     },
     "execution_count": 76,
     "metadata": {},
     "output_type": "execute_result"
    }
   ],
   "source": [
    "cluster_df.head()"
   ]
  },
  {
   "cell_type": "code",
   "execution_count": 77,
   "metadata": {},
   "outputs": [],
   "source": [
    "from sklearn.cluster import KMeans\n",
    "import sklearn.cluster as cluster"
   ]
  },
  {
   "cell_type": "code",
   "execution_count": 78,
   "metadata": {},
   "outputs": [],
   "source": [
    "k =range(2,10)"
   ]
  },
  {
   "cell_type": "code",
   "execution_count": 79,
   "metadata": {},
   "outputs": [
    {
     "data": {
      "text/plain": [
       "range(2, 10)"
      ]
     },
     "execution_count": 79,
     "metadata": {},
     "output_type": "execute_result"
    }
   ],
   "source": [
    "k"
   ]
  },
  {
   "cell_type": "code",
   "execution_count": 80,
   "metadata": {},
   "outputs": [],
   "source": [
    "distortions = []\n",
    "for k in range(1,6):\n",
    "    Cluster_Model = KMeans(n_clusters=k)\n",
    "    Cluster_Model.fit(cluster_df)\n",
    "    distortions.append(Cluster_Model.inertia_)"
   ]
  },
  {
   "cell_type": "code",
   "execution_count": 81,
   "metadata": {},
   "outputs": [
    {
     "data": {
      "image/png": "[encoded data removed]",
      "text/plain": [
       "<Figure size 432x288 with 1 Axes>"
      ]
     },
     "metadata": {
      "needs_background": "light"
     },
     "output_type": "display_data"
    }
   ],
   "source": [
    "plt.plot(range(1,6), distortions, 'bx-')\n",
    "plt.xlabel('k')\n",
    "plt.ylabel('Distortion')\n",
    "plt.title('The Elbow Method showing the optimal k')\n",
    "plt.show()"
   ]
  },
  {
   "cell_type": "code",
   "execution_count": 82,
   "metadata": {},
   "outputs": [],
   "source": [
    "# so the optimal no of cluster is 3"
   ]
  },
  {
   "cell_type": "code",
   "execution_count": 83,
   "metadata": {},
   "outputs": [
    {
     "data": {
      "text/plain": [
       "KMeans(init='random', n_clusters=3)"
      ]
     },
     "execution_count": 83,
     "metadata": {},
     "output_type": "execute_result"
    }
   ],
   "source": [
    "k_mean = KMeans(init=\"random\", n_clusters=3)\n",
    "k_mean.fit(cluster_df)"
   ]
  },
  {
   "cell_type": "code",
   "execution_count": 84,
   "metadata": {},
   "outputs": [],
   "source": [
    "labels=k_mean.labels_"
   ]
  },
  {
   "cell_type": "code",
   "execution_count": 85,
   "metadata": {},
   "outputs": [],
   "source": [
    "labels=pd.Series(data=labels,index=range(len(labels)))"
   ]
  },
  {
   "cell_type": "code",
   "execution_count": 86,
   "metadata": {},
   "outputs": [],
   "source": [
    "labels_x=list() \n",
    "for i in range(10):\n",
    "    labels_x.append(labels[labels.values==i])"
   ]
  },
  {
   "cell_type": "code",
   "execution_count": 87,
   "metadata": {},
   "outputs": [
    {
     "data": {
      "text/plain": [
       "2    7809\n",
       "0    1080\n",
       "1      60\n",
       "dtype: int64"
      ]
     },
     "execution_count": 87,
     "metadata": {},
     "output_type": "execute_result"
    }
   ],
   "source": [
    "labels.value_counts()"
   ]
  },
  {
   "cell_type": "code",
   "execution_count": 88,
   "metadata": {},
   "outputs": [
    {
     "data": {
      "text/plain": [
       "(8949, 11)"
      ]
     },
     "execution_count": 88,
     "metadata": {},
     "output_type": "execute_result"
    }
   ],
   "source": [
    "cluster_df.shape"
   ]
  },
  {
   "cell_type": "code",
   "execution_count": 89,
   "metadata": {},
   "outputs": [
    {
     "data": {
      "text/plain": [
       "8949"
      ]
     },
     "execution_count": 89,
     "metadata": {},
     "output_type": "execute_result"
    }
   ],
   "source": [
    "sum(labels.value_counts())"
   ]
  },
  {
   "cell_type": "code",
   "execution_count": 90,
   "metadata": {},
   "outputs": [],
   "source": [
    "c1=cluster_df.iloc[labels_x[0].index,:]"
   ]
  },
  {
   "cell_type": "code",
   "execution_count": 91,
   "metadata": {},
   "outputs": [
    {
     "data": {
      "text/html": [
       "<div>\n",
       "<style scoped>\n",
       "    .dataframe tbody tr th:only-of-type {\n",
       "        vertical-align: middle;\n",
       "    }\n",
       "\n",
       "    .dataframe tbody tr th {\n",
       "        vertical-align: top;\n",
       "    }\n",
       "\n",
       "    .dataframe thead th {\n",
       "        text-align: right;\n",
       "    }\n",
       "</style>\n",
       "<table border=\"1\" class=\"dataframe\">\n",
       "  <thead>\n",
       "    <tr style=\"text-align: right;\">\n",
       "      <th></th>\n",
       "      <th>count</th>\n",
       "      <th>mean</th>\n",
       "      <th>std</th>\n",
       "      <th>min</th>\n",
       "      <th>25%</th>\n",
       "      <th>50%</th>\n",
       "      <th>75%</th>\n",
       "      <th>max</th>\n",
       "    </tr>\n",
       "  </thead>\n",
       "  <tbody>\n",
       "    <tr>\n",
       "      <th>PURCHASES_INSTALLMENTS_FREQUENCY</th>\n",
       "      <td>1080.0</td>\n",
       "      <td>0.865667</td>\n",
       "      <td>0.193501</td>\n",
       "      <td>0.083333</td>\n",
       "      <td>0.750000</td>\n",
       "      <td>1.000000</td>\n",
       "      <td>1.000000</td>\n",
       "      <td>1.00000</td>\n",
       "    </tr>\n",
       "    <tr>\n",
       "      <th>PURCHASES_FREQUENCY</th>\n",
       "      <td>1080.0</td>\n",
       "      <td>0.923343</td>\n",
       "      <td>0.148011</td>\n",
       "      <td>0.166667</td>\n",
       "      <td>0.916667</td>\n",
       "      <td>1.000000</td>\n",
       "      <td>1.000000</td>\n",
       "      <td>1.00000</td>\n",
       "    </tr>\n",
       "    <tr>\n",
       "      <th>PURCHASES_TRX</th>\n",
       "      <td>1080.0</td>\n",
       "      <td>45.462963</td>\n",
       "      <td>39.115694</td>\n",
       "      <td>2.000000</td>\n",
       "      <td>19.000000</td>\n",
       "      <td>35.000000</td>\n",
       "      <td>60.000000</td>\n",
       "      <td>344.00000</td>\n",
       "    </tr>\n",
       "    <tr>\n",
       "      <th>INSTALLMENTS_PURCHASES</th>\n",
       "      <td>1080.0</td>\n",
       "      <td>1736.997352</td>\n",
       "      <td>761.408448</td>\n",
       "      <td>958.580000</td>\n",
       "      <td>1169.750000</td>\n",
       "      <td>1500.540000</td>\n",
       "      <td>2036.550000</td>\n",
       "      <td>4660.10000</td>\n",
       "    </tr>\n",
       "    <tr>\n",
       "      <th>PRC_FULL_PAYMENT</th>\n",
       "      <td>1080.0</td>\n",
       "      <td>0.273999</td>\n",
       "      <td>0.366150</td>\n",
       "      <td>0.000000</td>\n",
       "      <td>0.000000</td>\n",
       "      <td>0.083333</td>\n",
       "      <td>0.545455</td>\n",
       "      <td>1.00000</td>\n",
       "    </tr>\n",
       "    <tr>\n",
       "      <th>BALANCE_FREQUENCY</th>\n",
       "      <td>1080.0</td>\n",
       "      <td>0.959891</td>\n",
       "      <td>0.121638</td>\n",
       "      <td>0.000000</td>\n",
       "      <td>1.000000</td>\n",
       "      <td>1.000000</td>\n",
       "      <td>1.000000</td>\n",
       "      <td>1.00000</td>\n",
       "    </tr>\n",
       "    <tr>\n",
       "      <th>Both_OneOff_Installment</th>\n",
       "      <td>1080.0</td>\n",
       "      <td>0.716667</td>\n",
       "      <td>0.450826</td>\n",
       "      <td>0.000000</td>\n",
       "      <td>0.000000</td>\n",
       "      <td>1.000000</td>\n",
       "      <td>1.000000</td>\n",
       "      <td>1.00000</td>\n",
       "    </tr>\n",
       "    <tr>\n",
       "      <th>CASH_ADVANCE_FREQUENCY</th>\n",
       "      <td>1080.0</td>\n",
       "      <td>0.082274</td>\n",
       "      <td>0.167355</td>\n",
       "      <td>0.000000</td>\n",
       "      <td>0.000000</td>\n",
       "      <td>0.000000</td>\n",
       "      <td>0.083333</td>\n",
       "      <td>1.00000</td>\n",
       "    </tr>\n",
       "    <tr>\n",
       "      <th>None</th>\n",
       "      <td>1080.0</td>\n",
       "      <td>0.000000</td>\n",
       "      <td>0.000000</td>\n",
       "      <td>0.000000</td>\n",
       "      <td>0.000000</td>\n",
       "      <td>0.000000</td>\n",
       "      <td>0.000000</td>\n",
       "      <td>0.00000</td>\n",
       "    </tr>\n",
       "    <tr>\n",
       "      <th>Limit_Usage</th>\n",
       "      <td>1080.0</td>\n",
       "      <td>0.332933</td>\n",
       "      <td>0.328232</td>\n",
       "      <td>0.000000</td>\n",
       "      <td>0.057720</td>\n",
       "      <td>0.219373</td>\n",
       "      <td>0.520614</td>\n",
       "      <td>2.03358</td>\n",
       "    </tr>\n",
       "    <tr>\n",
       "      <th>OneOff</th>\n",
       "      <td>1080.0</td>\n",
       "      <td>0.000000</td>\n",
       "      <td>0.000000</td>\n",
       "      <td>0.000000</td>\n",
       "      <td>0.000000</td>\n",
       "      <td>0.000000</td>\n",
       "      <td>0.000000</td>\n",
       "      <td>0.00000</td>\n",
       "    </tr>\n",
       "  </tbody>\n",
       "</table>\n",
       "</div>"
      ],
      "text/plain": [
       "                                   count         mean         std         min  \\\n",
       "PURCHASES_INSTALLMENTS_FREQUENCY  1080.0     0.865667    0.193501    0.083333   \n",
       "PURCHASES_FREQUENCY               1080.0     0.923343    0.148011    0.166667   \n",
       "PURCHASES_TRX                     1080.0    45.462963   39.115694    2.000000   \n",
       "INSTALLMENTS_PURCHASES            1080.0  1736.997352  761.408448  958.580000   \n",
       "PRC_FULL_PAYMENT                  1080.0     0.273999    0.366150    0.000000   \n",
       "BALANCE_FREQUENCY                 1080.0     0.959891    0.121638    0.000000   \n",
       "Both_OneOff_Installment           1080.0     0.716667    0.450826    0.000000   \n",
       "CASH_ADVANCE_FREQUENCY            1080.0     0.082274    0.167355    0.000000   \n",
       "None                              1080.0     0.000000    0.000000    0.000000   \n",
       "Limit_Usage                       1080.0     0.332933    0.328232    0.000000   \n",
       "OneOff                            1080.0     0.000000    0.000000    0.000000   \n",
       "\n",
       "                                          25%          50%          75%  \\\n",
       "PURCHASES_INSTALLMENTS_FREQUENCY     0.750000     1.000000     1.000000   \n",
       "PURCHASES_FREQUENCY                  0.916667     1.000000     1.000000   \n",
       "PURCHASES_TRX                       19.000000    35.000000    60.000000   \n",
       "INSTALLMENTS_PURCHASES            1169.750000  1500.540000  2036.550000   \n",
       "PRC_FULL_PAYMENT                     0.000000     0.083333     0.545455   \n",
       "BALANCE_FREQUENCY                    1.000000     1.000000     1.000000   \n",
       "Both_OneOff_Installment              0.000000     1.000000     1.000000   \n",
       "CASH_ADVANCE_FREQUENCY               0.000000     0.000000     0.083333   \n",
       "None                                 0.000000     0.000000     0.000000   \n",
       "Limit_Usage                          0.057720     0.219373     0.520614   \n",
       "OneOff                               0.000000     0.000000     0.000000   \n",
       "\n",
       "                                         max  \n",
       "PURCHASES_INSTALLMENTS_FREQUENCY     1.00000  \n",
       "PURCHASES_FREQUENCY                  1.00000  \n",
       "PURCHASES_TRX                      344.00000  \n",
       "INSTALLMENTS_PURCHASES            4660.10000  \n",
       "PRC_FULL_PAYMENT                     1.00000  \n",
       "BALANCE_FREQUENCY                    1.00000  \n",
       "Both_OneOff_Installment              1.00000  \n",
       "CASH_ADVANCE_FREQUENCY               1.00000  \n",
       "None                                 0.00000  \n",
       "Limit_Usage                          2.03358  \n",
       "OneOff                               0.00000  "
      ]
     },
     "execution_count": 91,
     "metadata": {},
     "output_type": "execute_result"
    }
   ],
   "source": [
    "c1.describe().T"
   ]
  },
  {
   "cell_type": "code",
   "execution_count": 92,
   "metadata": {},
   "outputs": [],
   "source": [
    "c1_d=cluster_df.iloc[labels_x[0].index,:].describe().T"
   ]
  },
  {
   "cell_type": "code",
   "execution_count": 93,
   "metadata": {},
   "outputs": [],
   "source": [
    "c2_d= cluster_df.iloc[labels_x[1].index,:].describe().T"
   ]
  },
  {
   "cell_type": "code",
   "execution_count": 94,
   "metadata": {},
   "outputs": [],
   "source": [
    "c3_d= cluster_df.iloc[labels_x[2].index,:].describe().T"
   ]
  },
  {
   "cell_type": "code",
   "execution_count": 95,
   "metadata": {},
   "outputs": [
    {
     "data": {
      "text/html": [
       "<div>\n",
       "<style scoped>\n",
       "    .dataframe tbody tr th:only-of-type {\n",
       "        vertical-align: middle;\n",
       "    }\n",
       "\n",
       "    .dataframe tbody tr th {\n",
       "        vertical-align: top;\n",
       "    }\n",
       "\n",
       "    .dataframe thead th {\n",
       "        text-align: right;\n",
       "    }\n",
       "</style>\n",
       "<table border=\"1\" class=\"dataframe\">\n",
       "  <thead>\n",
       "    <tr style=\"text-align: right;\">\n",
       "      <th></th>\n",
       "      <th>count</th>\n",
       "      <th>mean</th>\n",
       "      <th>std</th>\n",
       "      <th>min</th>\n",
       "      <th>25%</th>\n",
       "      <th>50%</th>\n",
       "      <th>75%</th>\n",
       "      <th>max</th>\n",
       "    </tr>\n",
       "  </thead>\n",
       "  <tbody>\n",
       "    <tr>\n",
       "      <th>PURCHASES_INSTALLMENTS_FREQUENCY</th>\n",
       "      <td>60.0</td>\n",
       "      <td>0.917500</td>\n",
       "      <td>0.174921</td>\n",
       "      <td>0.166667</td>\n",
       "      <td>0.916667</td>\n",
       "      <td>1.000000</td>\n",
       "      <td>1.000000</td>\n",
       "      <td>1.000000</td>\n",
       "    </tr>\n",
       "    <tr>\n",
       "      <th>PURCHASES_FREQUENCY</th>\n",
       "      <td>60.0</td>\n",
       "      <td>0.941389</td>\n",
       "      <td>0.134965</td>\n",
       "      <td>0.333333</td>\n",
       "      <td>0.979167</td>\n",
       "      <td>1.000000</td>\n",
       "      <td>1.000000</td>\n",
       "      <td>1.000000</td>\n",
       "    </tr>\n",
       "    <tr>\n",
       "      <th>PURCHASES_TRX</th>\n",
       "      <td>60.0</td>\n",
       "      <td>119.066667</td>\n",
       "      <td>80.262254</td>\n",
       "      <td>5.000000</td>\n",
       "      <td>64.750000</td>\n",
       "      <td>99.500000</td>\n",
       "      <td>148.750000</td>\n",
       "      <td>358.000000</td>\n",
       "    </tr>\n",
       "    <tr>\n",
       "      <th>INSTALLMENTS_PURCHASES</th>\n",
       "      <td>60.0</td>\n",
       "      <td>7722.673500</td>\n",
       "      <td>3396.309687</td>\n",
       "      <td>4732.290000</td>\n",
       "      <td>5453.680000</td>\n",
       "      <td>6483.095000</td>\n",
       "      <td>8396.145000</td>\n",
       "      <td>22500.000000</td>\n",
       "    </tr>\n",
       "    <tr>\n",
       "      <th>PRC_FULL_PAYMENT</th>\n",
       "      <td>60.0</td>\n",
       "      <td>0.346423</td>\n",
       "      <td>0.415832</td>\n",
       "      <td>0.000000</td>\n",
       "      <td>0.000000</td>\n",
       "      <td>0.083333</td>\n",
       "      <td>0.833333</td>\n",
       "      <td>1.000000</td>\n",
       "    </tr>\n",
       "    <tr>\n",
       "      <th>BALANCE_FREQUENCY</th>\n",
       "      <td>60.0</td>\n",
       "      <td>0.980152</td>\n",
       "      <td>0.055952</td>\n",
       "      <td>0.727273</td>\n",
       "      <td>1.000000</td>\n",
       "      <td>1.000000</td>\n",
       "      <td>1.000000</td>\n",
       "      <td>1.000000</td>\n",
       "    </tr>\n",
       "    <tr>\n",
       "      <th>Both_OneOff_Installment</th>\n",
       "      <td>60.0</td>\n",
       "      <td>0.833333</td>\n",
       "      <td>0.375823</td>\n",
       "      <td>0.000000</td>\n",
       "      <td>1.000000</td>\n",
       "      <td>1.000000</td>\n",
       "      <td>1.000000</td>\n",
       "      <td>1.000000</td>\n",
       "    </tr>\n",
       "    <tr>\n",
       "      <th>CASH_ADVANCE_FREQUENCY</th>\n",
       "      <td>60.0</td>\n",
       "      <td>0.062500</td>\n",
       "      <td>0.194453</td>\n",
       "      <td>0.000000</td>\n",
       "      <td>0.000000</td>\n",
       "      <td>0.000000</td>\n",
       "      <td>0.000000</td>\n",
       "      <td>1.000000</td>\n",
       "    </tr>\n",
       "    <tr>\n",
       "      <th>None</th>\n",
       "      <td>60.0</td>\n",
       "      <td>0.000000</td>\n",
       "      <td>0.000000</td>\n",
       "      <td>0.000000</td>\n",
       "      <td>0.000000</td>\n",
       "      <td>0.000000</td>\n",
       "      <td>0.000000</td>\n",
       "      <td>0.000000</td>\n",
       "    </tr>\n",
       "    <tr>\n",
       "      <th>Limit_Usage</th>\n",
       "      <td>60.0</td>\n",
       "      <td>0.414660</td>\n",
       "      <td>0.342277</td>\n",
       "      <td>0.047418</td>\n",
       "      <td>0.127960</td>\n",
       "      <td>0.265757</td>\n",
       "      <td>0.608507</td>\n",
       "      <td>1.321426</td>\n",
       "    </tr>\n",
       "    <tr>\n",
       "      <th>OneOff</th>\n",
       "      <td>60.0</td>\n",
       "      <td>0.000000</td>\n",
       "      <td>0.000000</td>\n",
       "      <td>0.000000</td>\n",
       "      <td>0.000000</td>\n",
       "      <td>0.000000</td>\n",
       "      <td>0.000000</td>\n",
       "      <td>0.000000</td>\n",
       "    </tr>\n",
       "  </tbody>\n",
       "</table>\n",
       "</div>"
      ],
      "text/plain": [
       "                                  count         mean          std  \\\n",
       "PURCHASES_INSTALLMENTS_FREQUENCY   60.0     0.917500     0.174921   \n",
       "PURCHASES_FREQUENCY                60.0     0.941389     0.134965   \n",
       "PURCHASES_TRX                      60.0   119.066667    80.262254   \n",
       "INSTALLMENTS_PURCHASES             60.0  7722.673500  3396.309687   \n",
       "PRC_FULL_PAYMENT                   60.0     0.346423     0.415832   \n",
       "BALANCE_FREQUENCY                  60.0     0.980152     0.055952   \n",
       "Both_OneOff_Installment            60.0     0.833333     0.375823   \n",
       "CASH_ADVANCE_FREQUENCY             60.0     0.062500     0.194453   \n",
       "None                               60.0     0.000000     0.000000   \n",
       "Limit_Usage                        60.0     0.414660     0.342277   \n",
       "OneOff                             60.0     0.000000     0.000000   \n",
       "\n",
       "                                          min          25%          50%  \\\n",
       "PURCHASES_INSTALLMENTS_FREQUENCY     0.166667     0.916667     1.000000   \n",
       "PURCHASES_FREQUENCY                  0.333333     0.979167     1.000000   \n",
       "PURCHASES_TRX                        5.000000    64.750000    99.500000   \n",
       "INSTALLMENTS_PURCHASES            4732.290000  5453.680000  6483.095000   \n",
       "PRC_FULL_PAYMENT                     0.000000     0.000000     0.083333   \n",
       "BALANCE_FREQUENCY                    0.727273     1.000000     1.000000   \n",
       "Both_OneOff_Installment              0.000000     1.000000     1.000000   \n",
       "CASH_ADVANCE_FREQUENCY               0.000000     0.000000     0.000000   \n",
       "None                                 0.000000     0.000000     0.000000   \n",
       "Limit_Usage                          0.047418     0.127960     0.265757   \n",
       "OneOff                               0.000000     0.000000     0.000000   \n",
       "\n",
       "                                          75%           max  \n",
       "PURCHASES_INSTALLMENTS_FREQUENCY     1.000000      1.000000  \n",
       "PURCHASES_FREQUENCY                  1.000000      1.000000  \n",
       "PURCHASES_TRX                      148.750000    358.000000  \n",
       "INSTALLMENTS_PURCHASES            8396.145000  22500.000000  \n",
       "PRC_FULL_PAYMENT                     0.833333      1.000000  \n",
       "BALANCE_FREQUENCY                    1.000000      1.000000  \n",
       "Both_OneOff_Installment              1.000000      1.000000  \n",
       "CASH_ADVANCE_FREQUENCY               0.000000      1.000000  \n",
       "None                                 0.000000      0.000000  \n",
       "Limit_Usage                          0.608507      1.321426  \n",
       "OneOff                               0.000000      0.000000  "
      ]
     },
     "execution_count": 95,
     "metadata": {},
     "output_type": "execute_result"
    }
   ],
   "source": [
    "c2_d"
   ]
  },
  {
   "cell_type": "code",
   "execution_count": 96,
   "metadata": {},
   "outputs": [],
   "source": [
    "cluster_df['Cluster3'] = labels"
   ]
  },
  {
   "cell_type": "code",
   "execution_count": 97,
   "metadata": {},
   "outputs": [],
   "source": [
    "cluster_df = pd.concat([df['CUST_ID'],cluster_df],axis=1)"
   ]
  },
  {
   "cell_type": "code",
   "execution_count": 100,
   "metadata": {},
   "outputs": [
    {
     "data": {
      "text/html": [
       "<div>\n",
       "<style scoped>\n",
       "    .dataframe tbody tr th:only-of-type {\n",
       "        vertical-align: middle;\n",
       "    }\n",
       "\n",
       "    .dataframe tbody tr th {\n",
       "        vertical-align: top;\n",
       "    }\n",
       "\n",
       "    .dataframe thead th {\n",
       "        text-align: right;\n",
       "    }\n",
       "</style>\n",
       "<table border=\"1\" class=\"dataframe\">\n",
       "  <thead>\n",
       "    <tr style=\"text-align: right;\">\n",
       "      <th></th>\n",
       "      <th>CUST_ID</th>\n",
       "      <th>PURCHASES_INSTALLMENTS_FREQUENCY</th>\n",
       "      <th>PURCHASES_FREQUENCY</th>\n",
       "      <th>PURCHASES_TRX</th>\n",
       "      <th>INSTALLMENTS_PURCHASES</th>\n",
       "      <th>PRC_FULL_PAYMENT</th>\n",
       "      <th>BALANCE_FREQUENCY</th>\n",
       "      <th>Both_OneOff_Installment</th>\n",
       "      <th>CASH_ADVANCE_FREQUENCY</th>\n",
       "      <th>None</th>\n",
       "      <th>Limit_Usage</th>\n",
       "      <th>OneOff</th>\n",
       "      <th>Cluster3</th>\n",
       "    </tr>\n",
       "  </thead>\n",
       "  <tbody>\n",
       "    <tr>\n",
       "      <th>0</th>\n",
       "      <td>C10001</td>\n",
       "      <td>0.083333</td>\n",
       "      <td>0.166667</td>\n",
       "      <td>2.0</td>\n",
       "      <td>95.4</td>\n",
       "      <td>0.000000</td>\n",
       "      <td>0.818182</td>\n",
       "      <td>0</td>\n",
       "      <td>0.000000</td>\n",
       "      <td>0</td>\n",
       "      <td>0.040901</td>\n",
       "      <td>0</td>\n",
       "      <td>2.0</td>\n",
       "    </tr>\n",
       "    <tr>\n",
       "      <th>1</th>\n",
       "      <td>C10002</td>\n",
       "      <td>0.000000</td>\n",
       "      <td>0.000000</td>\n",
       "      <td>0.0</td>\n",
       "      <td>0.0</td>\n",
       "      <td>0.222222</td>\n",
       "      <td>0.909091</td>\n",
       "      <td>0</td>\n",
       "      <td>0.250000</td>\n",
       "      <td>1</td>\n",
       "      <td>0.457495</td>\n",
       "      <td>0</td>\n",
       "      <td>2.0</td>\n",
       "    </tr>\n",
       "    <tr>\n",
       "      <th>2</th>\n",
       "      <td>C10003</td>\n",
       "      <td>0.000000</td>\n",
       "      <td>1.000000</td>\n",
       "      <td>12.0</td>\n",
       "      <td>0.0</td>\n",
       "      <td>0.000000</td>\n",
       "      <td>1.000000</td>\n",
       "      <td>0</td>\n",
       "      <td>0.000000</td>\n",
       "      <td>0</td>\n",
       "      <td>0.332687</td>\n",
       "      <td>1</td>\n",
       "      <td>2.0</td>\n",
       "    </tr>\n",
       "    <tr>\n",
       "      <th>3</th>\n",
       "      <td>C10004</td>\n",
       "      <td>0.000000</td>\n",
       "      <td>0.083333</td>\n",
       "      <td>1.0</td>\n",
       "      <td>0.0</td>\n",
       "      <td>0.000000</td>\n",
       "      <td>0.636364</td>\n",
       "      <td>0</td>\n",
       "      <td>0.083333</td>\n",
       "      <td>0</td>\n",
       "      <td>0.222223</td>\n",
       "      <td>1</td>\n",
       "      <td>2.0</td>\n",
       "    </tr>\n",
       "    <tr>\n",
       "      <th>4</th>\n",
       "      <td>C10005</td>\n",
       "      <td>0.000000</td>\n",
       "      <td>0.083333</td>\n",
       "      <td>1.0</td>\n",
       "      <td>0.0</td>\n",
       "      <td>0.000000</td>\n",
       "      <td>1.000000</td>\n",
       "      <td>0</td>\n",
       "      <td>0.000000</td>\n",
       "      <td>0</td>\n",
       "      <td>0.681429</td>\n",
       "      <td>1</td>\n",
       "      <td>2.0</td>\n",
       "    </tr>\n",
       "  </tbody>\n",
       "</table>\n",
       "</div>"
      ],
      "text/plain": [
       "  CUST_ID  PURCHASES_INSTALLMENTS_FREQUENCY  PURCHASES_FREQUENCY  \\\n",
       "0  C10001                          0.083333             0.166667   \n",
       "1  C10002                          0.000000             0.000000   \n",
       "2  C10003                          0.000000             1.000000   \n",
       "3  C10004                          0.000000             0.083333   \n",
       "4  C10005                          0.000000             0.083333   \n",
       "\n",
       "   PURCHASES_TRX  INSTALLMENTS_PURCHASES  PRC_FULL_PAYMENT  BALANCE_FREQUENCY  \\\n",
       "0            2.0                    95.4          0.000000           0.818182   \n",
       "1            0.0                     0.0          0.222222           0.909091   \n",
       "2           12.0                     0.0          0.000000           1.000000   \n",
       "3            1.0                     0.0          0.000000           0.636364   \n",
       "4            1.0                     0.0          0.000000           1.000000   \n",
       "\n",
       "   Both_OneOff_Installment  CASH_ADVANCE_FREQUENCY  None  Limit_Usage  OneOff  \\\n",
       "0                        0                0.000000     0     0.040901       0   \n",
       "1                        0                0.250000     1     0.457495       0   \n",
       "2                        0                0.000000     0     0.332687       1   \n",
       "3                        0                0.083333     0     0.222223       1   \n",
       "4                        0                0.000000     0     0.681429       1   \n",
       "\n",
       "   Cluster3  \n",
       "0       2.0  \n",
       "1       2.0  \n",
       "2       2.0  \n",
       "3       2.0  \n",
       "4       2.0  "
      ]
     },
     "execution_count": 100,
     "metadata": {},
     "output_type": "execute_result"
    }
   ],
   "source": [
    "cluster_df.head()"
   ]
  },
  {
   "cell_type": "code",
   "execution_count": 122,
   "metadata": {},
   "outputs": [],
   "source": [
    "df['Cluster3'] = labels"
   ]
  },
  {
   "cell_type": "code",
   "execution_count": 123,
   "metadata": {},
   "outputs": [],
   "source": [
    "cluster1 =df.iloc[labels_x[0].index,:]"
   ]
  },
  {
   "cell_type": "code",
   "execution_count": 124,
   "metadata": {},
   "outputs": [
    {
     "data": {
      "text/html": [
       "<div>\n",
       "<style scoped>\n",
       "    .dataframe tbody tr th:only-of-type {\n",
       "        vertical-align: middle;\n",
       "    }\n",
       "\n",
       "    .dataframe tbody tr th {\n",
       "        vertical-align: top;\n",
       "    }\n",
       "\n",
       "    .dataframe thead th {\n",
       "        text-align: right;\n",
       "    }\n",
       "</style>\n",
       "<table border=\"1\" class=\"dataframe\">\n",
       "  <thead>\n",
       "    <tr style=\"text-align: right;\">\n",
       "      <th></th>\n",
       "      <th>CUST_ID</th>\n",
       "      <th>BALANCE</th>\n",
       "      <th>BALANCE_FREQUENCY</th>\n",
       "      <th>PURCHASES</th>\n",
       "      <th>ONEOFF_PURCHASES</th>\n",
       "      <th>INSTALLMENTS_PURCHASES</th>\n",
       "      <th>CASH_ADVANCE</th>\n",
       "      <th>PURCHASES_FREQUENCY</th>\n",
       "      <th>ONEOFF_PURCHASES_FREQUENCY</th>\n",
       "      <th>PURCHASES_INSTALLMENTS_FREQUENCY</th>\n",
       "      <th>...</th>\n",
       "      <th>PAYMENTS</th>\n",
       "      <th>MINIMUM_PAYMENTS</th>\n",
       "      <th>PRC_FULL_PAYMENT</th>\n",
       "      <th>TENURE</th>\n",
       "      <th>Monthly_Avg_Purchase</th>\n",
       "      <th>Monthly_Cash_Advance</th>\n",
       "      <th>Limit_Usage</th>\n",
       "      <th>Payment_Minpay</th>\n",
       "      <th>Purchase_Type</th>\n",
       "      <th>Cluster3</th>\n",
       "    </tr>\n",
       "  </thead>\n",
       "  <tbody>\n",
       "    <tr>\n",
       "      <th>5</th>\n",
       "      <td>C10006</td>\n",
       "      <td>1809.828751</td>\n",
       "      <td>1.0</td>\n",
       "      <td>1333.28</td>\n",
       "      <td>0.00</td>\n",
       "      <td>1333.28</td>\n",
       "      <td>0.000000</td>\n",
       "      <td>0.666667</td>\n",
       "      <td>0.000000</td>\n",
       "      <td>0.583333</td>\n",
       "      <td>...</td>\n",
       "      <td>1400.057770</td>\n",
       "      <td>2407.246035</td>\n",
       "      <td>0.000000</td>\n",
       "      <td>12.0</td>\n",
       "      <td>111.106667</td>\n",
       "      <td>0.000000</td>\n",
       "      <td>1.005460</td>\n",
       "      <td>0.581601</td>\n",
       "      <td>Istallment</td>\n",
       "      <td>0.0</td>\n",
       "    </tr>\n",
       "    <tr>\n",
       "      <th>13</th>\n",
       "      <td>C10014</td>\n",
       "      <td>921.693369</td>\n",
       "      <td>1.0</td>\n",
       "      <td>2137.93</td>\n",
       "      <td>419.96</td>\n",
       "      <td>1717.97</td>\n",
       "      <td>0.000000</td>\n",
       "      <td>0.750000</td>\n",
       "      <td>0.166667</td>\n",
       "      <td>0.750000</td>\n",
       "      <td>...</td>\n",
       "      <td>1655.891435</td>\n",
       "      <td>251.137986</td>\n",
       "      <td>0.083333</td>\n",
       "      <td>12.0</td>\n",
       "      <td>178.160833</td>\n",
       "      <td>0.000000</td>\n",
       "      <td>0.122892</td>\n",
       "      <td>6.593552</td>\n",
       "      <td>Both_OneOff_Installment</td>\n",
       "      <td>0.0</td>\n",
       "    </tr>\n",
       "    <tr>\n",
       "      <th>15</th>\n",
       "      <td>C10016</td>\n",
       "      <td>6886.213231</td>\n",
       "      <td>1.0</td>\n",
       "      <td>1611.70</td>\n",
       "      <td>0.00</td>\n",
       "      <td>1611.70</td>\n",
       "      <td>2301.491267</td>\n",
       "      <td>0.500000</td>\n",
       "      <td>0.000000</td>\n",
       "      <td>0.500000</td>\n",
       "      <td>...</td>\n",
       "      <td>1993.439277</td>\n",
       "      <td>2109.906490</td>\n",
       "      <td>0.000000</td>\n",
       "      <td>12.0</td>\n",
       "      <td>134.308333</td>\n",
       "      <td>191.790939</td>\n",
       "      <td>0.860777</td>\n",
       "      <td>0.944800</td>\n",
       "      <td>Istallment</td>\n",
       "      <td>0.0</td>\n",
       "    </tr>\n",
       "    <tr>\n",
       "      <th>30</th>\n",
       "      <td>C10031</td>\n",
       "      <td>12136.219960</td>\n",
       "      <td>1.0</td>\n",
       "      <td>3038.01</td>\n",
       "      <td>1013.20</td>\n",
       "      <td>2024.81</td>\n",
       "      <td>3183.583301</td>\n",
       "      <td>1.000000</td>\n",
       "      <td>0.166667</td>\n",
       "      <td>1.000000</td>\n",
       "      <td>...</td>\n",
       "      <td>4230.323491</td>\n",
       "      <td>3292.015030</td>\n",
       "      <td>0.000000</td>\n",
       "      <td>12.0</td>\n",
       "      <td>253.167500</td>\n",
       "      <td>265.298608</td>\n",
       "      <td>0.933555</td>\n",
       "      <td>1.285026</td>\n",
       "      <td>Both_OneOff_Installment</td>\n",
       "      <td>0.0</td>\n",
       "    </tr>\n",
       "    <tr>\n",
       "      <th>44</th>\n",
       "      <td>C10046</td>\n",
       "      <td>5315.945594</td>\n",
       "      <td>1.0</td>\n",
       "      <td>1525.44</td>\n",
       "      <td>469.80</td>\n",
       "      <td>1055.64</td>\n",
       "      <td>0.000000</td>\n",
       "      <td>1.000000</td>\n",
       "      <td>0.333333</td>\n",
       "      <td>1.000000</td>\n",
       "      <td>...</td>\n",
       "      <td>1430.341501</td>\n",
       "      <td>1318.714920</td>\n",
       "      <td>0.000000</td>\n",
       "      <td>12.0</td>\n",
       "      <td>127.120000</td>\n",
       "      <td>0.000000</td>\n",
       "      <td>0.625405</td>\n",
       "      <td>1.084648</td>\n",
       "      <td>Both_OneOff_Installment</td>\n",
       "      <td>0.0</td>\n",
       "    </tr>\n",
       "  </tbody>\n",
       "</table>\n",
       "<p>5 rows × 24 columns</p>\n",
       "</div>"
      ],
      "text/plain": [
       "   CUST_ID       BALANCE  BALANCE_FREQUENCY  PURCHASES  ONEOFF_PURCHASES  \\\n",
       "5   C10006   1809.828751                1.0    1333.28              0.00   \n",
       "13  C10014    921.693369                1.0    2137.93            419.96   \n",
       "15  C10016   6886.213231                1.0    1611.70              0.00   \n",
       "30  C10031  12136.219960                1.0    3038.01           1013.20   \n",
       "44  C10046   5315.945594                1.0    1525.44            469.80   \n",
       "\n",
       "    INSTALLMENTS_PURCHASES  CASH_ADVANCE  PURCHASES_FREQUENCY  \\\n",
       "5                  1333.28      0.000000             0.666667   \n",
       "13                 1717.97      0.000000             0.750000   \n",
       "15                 1611.70   2301.491267             0.500000   \n",
       "30                 2024.81   3183.583301             1.000000   \n",
       "44                 1055.64      0.000000             1.000000   \n",
       "\n",
       "    ONEOFF_PURCHASES_FREQUENCY  PURCHASES_INSTALLMENTS_FREQUENCY  ...  \\\n",
       "5                     0.000000                          0.583333  ...   \n",
       "13                    0.166667                          0.750000  ...   \n",
       "15                    0.000000                          0.500000  ...   \n",
       "30                    0.166667                          1.000000  ...   \n",
       "44                    0.333333                          1.000000  ...   \n",
       "\n",
       "       PAYMENTS  MINIMUM_PAYMENTS  PRC_FULL_PAYMENT  TENURE  \\\n",
       "5   1400.057770       2407.246035          0.000000    12.0   \n",
       "13  1655.891435        251.137986          0.083333    12.0   \n",
       "15  1993.439277       2109.906490          0.000000    12.0   \n",
       "30  4230.323491       3292.015030          0.000000    12.0   \n",
       "44  1430.341501       1318.714920          0.000000    12.0   \n",
       "\n",
       "    Monthly_Avg_Purchase  Monthly_Cash_Advance  Limit_Usage  Payment_Minpay  \\\n",
       "5             111.106667              0.000000     1.005460        0.581601   \n",
       "13            178.160833              0.000000     0.122892        6.593552   \n",
       "15            134.308333            191.790939     0.860777        0.944800   \n",
       "30            253.167500            265.298608     0.933555        1.285026   \n",
       "44            127.120000              0.000000     0.625405        1.084648   \n",
       "\n",
       "              Purchase_Type  Cluster3  \n",
       "5                Istallment       0.0  \n",
       "13  Both_OneOff_Installment       0.0  \n",
       "15               Istallment       0.0  \n",
       "30  Both_OneOff_Installment       0.0  \n",
       "44  Both_OneOff_Installment       0.0  \n",
       "\n",
       "[5 rows x 24 columns]"
      ]
     },
     "execution_count": 124,
     "metadata": {},
     "output_type": "execute_result"
    }
   ],
   "source": [
    "cluster1.head()"
   ]
  },
  {
   "cell_type": "markdown",
   "metadata": {},
   "source": [
    "# Cluster 1 Analysis "
   ]
  },
  {
   "cell_type": "code",
   "execution_count": 150,
   "metadata": {},
   "outputs": [
    {
     "data": {
      "image/png": "[encoded data removed]",
      "text/plain": [
       "<Figure size 576x360 with 1 Axes>"
      ]
     },
     "metadata": {
      "needs_background": "light"
     },
     "output_type": "display_data"
    }
   ],
   "source": [
    "%matplotlib inline\n",
    "plt.figure(figsize=(8,5))\n",
    "plt.title('Average credit score usage by customers of belong to Cluster1')\n",
    "cluster1.groupby('Purchase_Type').apply(lambda x: np.mean(x['Limit_Usage'])).plot.barh()\n",
    "plt.show()"
   ]
  },
  {
   "cell_type": "code",
   "execution_count": 137,
   "metadata": {},
   "outputs": [
    {
     "data": {
      "image/png": "[encoded data removed]",
      "text/plain": [
       "<Figure size 576x360 with 1 Axes>"
      ]
     },
     "metadata": {
      "needs_background": "light"
     },
     "output_type": "display_data"
    }
   ],
   "source": [
    "%matplotlib inline\n",
    "plt.figure(figsize=(8,5))\n",
    "plt.title('Total Average cash advance taken by customers of different Purchase type who belong to cluster1')\n",
    "cluster1.groupby('Purchase_Type').apply(lambda x: np.mean(x['CASH_ADVANCE'])).plot.barh()\n",
    "plt.show()"
   ]
  },
  {
   "cell_type": "code",
   "execution_count": 130,
   "metadata": {},
   "outputs": [
    {
     "data": {
      "image/png": "[encoded data removed]",
      "text/plain": [
       "<Figure size 576x360 with 1 Axes>"
      ]
     },
     "metadata": {
      "needs_background": "light"
     },
     "output_type": "display_data"
    }
   ],
   "source": [
    "%matplotlib inline\n",
    "plt.figure(figsize=(8,5))\n",
    "plt.title('Average balance cash avilabe to customers of different Purchase type who belong to cluster1')\n",
    "cluster1.groupby('Purchase_Type').apply(lambda x: np.mean(x['BALANCE'])).plot.barh()\n",
    "plt.show()"
   ]
  },
  {
   "cell_type": "code",
   "execution_count": 156,
   "metadata": {},
   "outputs": [
    {
     "data": {
      "image/png": "[encoded data removed]",
      "text/plain": [
       "<Figure size 576x360 with 1 Axes>"
      ]
     },
     "metadata": {
      "needs_background": "light"
     },
     "output_type": "display_data"
    }
   ],
   "source": [
    "%matplotlib inline\n",
    "plt.figure(figsize=(8,5))\n",
    "plt.title('customers Total minimum payments due based on different Purchase type who belong to cluster1')\n",
    "cluster1.groupby('Purchase_Type').apply(lambda x: np.mean(x['MINIMUM_PAYMENTS'])).plot.barh()\n",
    "plt.show()"
   ]
  },
  {
   "cell_type": "markdown",
   "metadata": {},
   "source": [
    "# Cluster 2 Analysis "
   ]
  },
  {
   "cell_type": "code",
   "execution_count": 148,
   "metadata": {},
   "outputs": [],
   "source": [
    "cluster2 =df.iloc[labels_x[1].index,:]"
   ]
  },
  {
   "cell_type": "code",
   "execution_count": 149,
   "metadata": {},
   "outputs": [
    {
     "data": {
      "image/png": "[encoded data removed]",
      "text/plain": [
       "<Figure size 576x360 with 1 Axes>"
      ]
     },
     "metadata": {
      "needs_background": "light"
     },
     "output_type": "display_data"
    }
   ],
   "source": [
    "%matplotlib inline\n",
    "plt.figure(figsize=(8,5))\n",
    "plt.title('Average credit score usage by customers of belong to Cluster2')\n",
    "cluster2.groupby('Purchase_Type').apply(lambda x: np.mean(x['Limit_Usage'])).plot.barh()\n",
    "plt.show()"
   ]
  },
  {
   "cell_type": "code",
   "execution_count": 138,
   "metadata": {},
   "outputs": [
    {
     "data": {
      "image/png": "[encoded data removed]",
      "text/plain": [
       "<Figure size 576x360 with 1 Axes>"
      ]
     },
     "metadata": {
      "needs_background": "light"
     },
     "output_type": "display_data"
    }
   ],
   "source": [
    "%matplotlib inline\n",
    "plt.figure(figsize=(8,5))\n",
    "plt.title('Total Average cash advance taken by customers of different Purchase type who belong to cluster2')\n",
    "cluster2.groupby('Purchase_Type').apply(lambda x: np.mean(x['CASH_ADVANCE'])).plot.barh()\n",
    "plt.show()"
   ]
  },
  {
   "cell_type": "code",
   "execution_count": 139,
   "metadata": {},
   "outputs": [
    {
     "data": {
      "image/png": "[encoded data removed]",
      "text/plain": [
       "<Figure size 576x360 with 1 Axes>"
      ]
     },
     "metadata": {
      "needs_background": "light"
     },
     "output_type": "display_data"
    }
   ],
   "source": [
    "%matplotlib inline\n",
    "plt.figure(figsize=(8,5))\n",
    "plt.title('Average balance cash avilabe to customers of different Purchase type who belong to cluster2')\n",
    "cluster2.groupby('Purchase_Type').apply(lambda x: np.mean(x['BALANCE'])).plot.barh()\n",
    "plt.show()"
   ]
  },
  {
   "cell_type": "code",
   "execution_count": 155,
   "metadata": {},
   "outputs": [
    {
     "data": {
      "image/png": "[encoded data removed]",
      "text/plain": [
       "<Figure size 576x360 with 1 Axes>"
      ]
     },
     "metadata": {
      "needs_background": "light"
     },
     "output_type": "display_data"
    }
   ],
   "source": [
    "%matplotlib inline\n",
    "plt.figure(figsize=(8,5))\n",
    "plt.title('customers Total minimum payments due based on different Purchase type who belong to cluster2')\n",
    "cluster2.groupby('Purchase_Type').apply(lambda x: np.mean(x['MINIMUM_PAYMENTS'])).plot.barh()\n",
    "plt.show()"
   ]
  },
  {
   "cell_type": "markdown",
   "metadata": {},
   "source": [
    "# Cluster3"
   ]
  },
  {
   "cell_type": "code",
   "execution_count": 143,
   "metadata": {},
   "outputs": [],
   "source": [
    "cluster3 =df.iloc[labels_x[2].index,:]"
   ]
  },
  {
   "cell_type": "code",
   "execution_count": 146,
   "metadata": {},
   "outputs": [
    {
     "data": {
      "image/png": "[encoded data removed]",
      "text/plain": [
       "<Figure size 576x360 with 1 Axes>"
      ]
     },
     "metadata": {
      "needs_background": "light"
     },
     "output_type": "display_data"
    }
   ],
   "source": [
    "%matplotlib inline\n",
    "plt.figure(figsize=(8,5))\n",
    "plt.title('Average Credit score usage by customers of belong to Cluster3')\n",
    "cluster3.groupby('Purchase_Type').apply(lambda x: np.mean(x['Limit_Usage'])).plot.barh()\n",
    "plt.show()"
   ]
  },
  {
   "cell_type": "code",
   "execution_count": 152,
   "metadata": {},
   "outputs": [
    {
     "data": {
      "image/png": "[encoded data removed]",
      "text/plain": [
       "<Figure size 576x360 with 1 Axes>"
      ]
     },
     "metadata": {
      "needs_background": "light"
     },
     "output_type": "display_data"
    }
   ],
   "source": [
    "%matplotlib inline\n",
    "plt.figure(figsize=(8,5))\n",
    "plt.title('Total Average cash advance taken by customers of different Purchase type who belong to cluster3')\n",
    "cluster3.groupby('Purchase_Type').apply(lambda x: np.mean(x['CASH_ADVANCE'])).plot.barh()\n",
    "plt.show()"
   ]
  },
  {
   "cell_type": "code",
   "execution_count": 154,
   "metadata": {},
   "outputs": [
    {
     "data": {
      "image/png": "[encoded data removed]",
      "text/plain": [
       "<Figure size 576x360 with 1 Axes>"
      ]
     },
     "metadata": {
      "needs_background": "light"
     },
     "output_type": "display_data"
    }
   ],
   "source": [
    "%matplotlib inline\n",
    "plt.figure(figsize=(8,5))\n",
    "plt.title('customers Total minimum payments due based on different Purchase type who belong to cluster3')\n",
    "cluster3.groupby('Purchase_Type').apply(lambda x: np.mean(x['MINIMUM_PAYMENTS'])).plot.barh()\n",
    "plt.show()"
   ]
  },
  {
   "cell_type": "code",
   "execution_count": null,
   "metadata": {},
   "outputs": [],
   "source": []
  },
  {
   "cell_type": "code",
   "execution_count": 99,
   "metadata": {},
   "outputs": [],
   "source": [
    "writer = pd.ExcelWriter('Assignment for Associate DS Role.xlsx', engine='xlsxwriter')\n",
    "data_df.to_excel(writer, sheet_name='Originals Dataset',index=False)\n",
    "df.to_excel(writer, sheet_name='Dataset for Ml Model',index=False)\n",
    "component_df.to_excel(writer, sheet_name='Factor Analysis',index=False)\n",
    "c1_d.to_excel(writer, sheet_name='Cluster1 discription',index=True)\n",
    "c2_d.to_excel(writer, sheet_name='Cluster2 discription',index=True)\n",
    "c3_d.to_excel(writer, sheet_name='Cluster3 discription',index=True)\n",
    "cluster_df.to_excel(writer, sheet_name='Cluster dataframe',index=False)\n",
    "writer.save()"
   ]
  },
  {
   "cell_type": "code",
   "execution_count": null,
   "metadata": {},
   "outputs": [],
   "source": []
  }
 ],
 "metadata": {
  "kernelspec": {
   "display_name": "Python 3",
   "language": "python",
   "name": "python3"
  },
  "language_info": {
   "codemirror_mode": {
    "name": "ipython",
    "version": 3
   },
   "file_extension": ".py",
   "mimetype": "text/x-python",
   "name": "python",
   "nbconvert_exporter": "python",
   "pygments_lexer": "ipython3",
   "version": "3.8.3"
  }
 },
 "nbformat": 4,
 "nbformat_minor": 4
}
